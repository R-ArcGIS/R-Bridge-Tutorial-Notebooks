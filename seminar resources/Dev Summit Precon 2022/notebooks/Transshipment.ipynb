{
 "cells": [
  {
   "cell_type": "markdown",
   "metadata": {},
   "source": [
    "## R-ArcGIS Bridge and R Notebooks\n",
    "\n",
    "In this notebook, working with arcgisbinding in a notebook environment will be demonstrated. The workflow will be as follows:\n",
    "\n",
    "1. Import necessary R packages\n",
    "2. Import arcPy library to leverage ArcGIS Pro functions\n",
    "3. Wrangle data using `sf`\n",
    "4. Write the data out to ArcGIS Pro for Analysis\n",
    "5. Perform cluster analysis using ArcGIS Pro's `Density-Based Clustering`\n",
    "6. Create interactive maps of clusters\n",
    "\n",
    "### Step 1. Importing Necessary R libraries"
   ]
  },
  {
   "cell_type": "code",
   "execution_count": 1,
   "metadata": {},
   "outputs": [
    {
     "name": "stderr",
     "output_type": "stream",
     "text": [
      "*** Please call arc.check_product() to define a desktop license.\n",
      "Loading required package: leaflet.extras\n",
      "Warning message:\n",
      "\"package 'leaflet.extras' was built under R version 3.5.3\"Linking to GEOS 3.8.0, GDAL 3.0.4, PROJ 6.3.1\n"
     ]
    }
   ],
   "source": [
    "library(arcgisbinding)\n",
    "library(e1071)\n",
    "library(leaflet)\n",
    "library(leaflet.esri)\n",
    "library(reticulate)\n",
    "library(sf)"
   ]
  },
  {
   "cell_type": "markdown",
   "metadata": {},
   "source": [
    "#### Initialize `arcgisbinding`\n",
    "Next, we will run `arc.check_product()` to make enable `arcgisbinding`. This function will return:\n",
    "\n",
    "1. The version of ArcGIS Pro\n",
    "2. The type of ArcGIS Pro license\n",
    "3. The version of the `arcgisbinding` package"
   ]
  },
  {
   "cell_type": "code",
   "execution_count": 2,
   "metadata": {},
   "outputs": [
    {
     "data": {
      "text/html": [
       "<pre><b>product:</b> ArcGIS Pro (12.8.0.28988)\n",
       "<b>license:</b> Advanced\n",
       "<b>version:</b> 1.0.1.244</pre>"
      ],
      "text/latex": [
       "\\begin{description}\n",
       "\\item[\\$license] 'Advanced'\n",
       "\\item[\\$version] '12.8.0.28988'\n",
       "\\item[\\$path] 'C:\\textbackslash{}\\textbackslash{}ArcGISPro\\textbackslash{}\\textbackslash{}'\n",
       "\\item[\\$dll] 'rarcproxy\\_pro'\n",
       "\\item[\\$app] 'ArcGIS Pro'\n",
       "\\item[\\$pkg\\_ver] '1.0.1.244'\n",
       "\\end{description}\n"
      ],
      "text/markdown": [
       "$license\n",
       ":   'Advanced'\n",
       "$version\n",
       ":   '12.8.0.28988'\n",
       "$path\n",
       ":   'C:\\\\ArcGISPro\\\\'\n",
       "$dll\n",
       ":   'rarcproxy_pro'\n",
       "$app\n",
       ":   'ArcGIS Pro'\n",
       "$pkg_ver\n",
       ":   '1.0.1.244'\n",
       "\n",
       "\n"
      ],
      "text/plain": [
       "product: ArcGIS Pro (12.8.0.28988)\n",
       "license: Advanced\n",
       "version: 1.0.1.244 "
      ]
     },
     "metadata": {},
     "output_type": "display_data"
    }
   ],
   "source": [
    "arc.check_product()\n",
    "reticulate::use_python('C:/Users/orhu8849/AppData/Local/ESRI/conda/envs/r_28_fix/python.exe', required = T)"
   ]
  },
  {
   "cell_type": "markdown",
   "metadata": {},
   "source": [
    "### Step 2. Import arcPy Library\n",
    "After a successful run of `arc.check_product` we will import `arcPy` library to call Geoprocessing functions from R.\n",
    "\n",
    "We will set `arcPy`'s environment variable `overwriteOutput` to `True` to be able to allow overwriting output from Geoprocessing tools."
   ]
  },
  {
   "cell_type": "code",
   "execution_count": 3,
   "metadata": {},
   "outputs": [],
   "source": [
    "arcpy <- import(\"arcpy\")\n",
    "arcpy$env$overwriteOutput = TRUE\n",
    "write.dir <- file.path(getwd(), 'Transshipment.gdb')"
   ]
  },
  {
   "cell_type": "markdown",
   "metadata": {},
   "source": [
    "### Step 3. Wrangle data using `sf`\n",
    "\n",
    "The original data lives in a `csv` file. We will use `sf` to convert this data into a Spatial R Dataframe. Once the dataframe is spatial, we will write it as a feature class in a file geodatabase."
   ]
  },
  {
   "cell_type": "code",
   "execution_count": 4,
   "metadata": {},
   "outputs": [
    {
     "data": {
      "text/html": [
       "<table>\n",
       "<thead><tr><th scope=col>transshipment_mmsi</th><th scope=col>starting_latitude</th><th scope=col>starting_longitude</th><th scope=col>ending_latitude</th><th scope=col>ending_longitude</th><th scope=col>starting_timestamp</th><th scope=col>ending_timestamp</th><th scope=col>median_speed_knots</th><th scope=col>total_event_duration</th><th scope=col>Event_Type</th></tr></thead>\n",
       "<tbody>\n",
       "\t<tr><td>256064000           </td><td>12.793800           </td><td>-69.50323           </td><td>12.727950           </td><td>-69.73912           </td><td>2017-09-06T02:11:32Z</td><td>2017-09-06T15:44:15Z</td><td>1.0910647           </td><td>13.915556           </td><td>Loitering           </td></tr>\n",
       "\t<tr><td>256064000           </td><td>25.405013           </td><td>-56.30280           </td><td>25.393350           </td><td>-56.48825           </td><td>2017-07-22T13:19:49Z</td><td>2017-07-22T23:59:17Z</td><td>1.5483346           </td><td>10.897639           </td><td>Loitering           </td></tr>\n",
       "\t<tr><td>256064000           </td><td>10.693413           </td><td>-78.51280           </td><td>10.484500           </td><td>-78.88430           </td><td>2017-11-29T14:48:51Z</td><td>2017-11-30T07:43:36Z</td><td>1.5034558           </td><td>18.001389           </td><td>Loitering           </td></tr>\n",
       "\t<tr><td>256064000           </td><td>11.858933           </td><td>-75.55338           </td><td>12.007627           </td><td>-75.53563           </td><td>2017-09-07T23:39:03Z</td><td>2017-09-08T14:59:26Z</td><td>0.6503549           </td><td>16.193611           </td><td>Loitering           </td></tr>\n",
       "\t<tr><td>256064000           </td><td>45.938747           </td><td>-23.79696           </td><td>45.976960           </td><td>-23.44939           </td><td>2017-08-17T23:18:21Z</td><td>2017-08-18T17:56:30Z</td><td>1.0098737           </td><td>19.748333           </td><td>Loitering           </td></tr>\n",
       "\t<tr><td>256064000           </td><td> 3.100107           </td><td>-80.50907           </td><td> 3.170747           </td><td>-80.43064           </td><td>2017-09-11T03:02:21Z</td><td>2017-09-11T08:45:09Z</td><td>1.1113524           </td><td> 8.163333           </td><td>Loitering           </td></tr>\n",
       "</tbody>\n",
       "</table>\n"
      ],
      "text/latex": [
       "\\begin{tabular}{r|llllllllll}\n",
       " transshipment\\_mmsi & starting\\_latitude & starting\\_longitude & ending\\_latitude & ending\\_longitude & starting\\_timestamp & ending\\_timestamp & median\\_speed\\_knots & total\\_event\\_duration & Event\\_Type\\\\\n",
       "\\hline\n",
       "\t 256064000            & 12.793800            & -69.50323            & 12.727950            & -69.73912            & 2017-09-06T02:11:32Z & 2017-09-06T15:44:15Z & 1.0910647            & 13.915556            & Loitering           \\\\\n",
       "\t 256064000            & 25.405013            & -56.30280            & 25.393350            & -56.48825            & 2017-07-22T13:19:49Z & 2017-07-22T23:59:17Z & 1.5483346            & 10.897639            & Loitering           \\\\\n",
       "\t 256064000            & 10.693413            & -78.51280            & 10.484500            & -78.88430            & 2017-11-29T14:48:51Z & 2017-11-30T07:43:36Z & 1.5034558            & 18.001389            & Loitering           \\\\\n",
       "\t 256064000            & 11.858933            & -75.55338            & 12.007627            & -75.53563            & 2017-09-07T23:39:03Z & 2017-09-08T14:59:26Z & 0.6503549            & 16.193611            & Loitering           \\\\\n",
       "\t 256064000            & 45.938747            & -23.79696            & 45.976960            & -23.44939            & 2017-08-17T23:18:21Z & 2017-08-18T17:56:30Z & 1.0098737            & 19.748333            & Loitering           \\\\\n",
       "\t 256064000            &  3.100107            & -80.50907            &  3.170747            & -80.43064            & 2017-09-11T03:02:21Z & 2017-09-11T08:45:09Z & 1.1113524            &  8.163333            & Loitering           \\\\\n",
       "\\end{tabular}\n"
      ],
      "text/markdown": [
       "\n",
       "transshipment_mmsi | starting_latitude | starting_longitude | ending_latitude | ending_longitude | starting_timestamp | ending_timestamp | median_speed_knots | total_event_duration | Event_Type | \n",
       "|---|---|---|---|---|---|\n",
       "| 256064000            | 12.793800            | -69.50323            | 12.727950            | -69.73912            | 2017-09-06T02:11:32Z | 2017-09-06T15:44:15Z | 1.0910647            | 13.915556            | Loitering            | \n",
       "| 256064000            | 25.405013            | -56.30280            | 25.393350            | -56.48825            | 2017-07-22T13:19:49Z | 2017-07-22T23:59:17Z | 1.5483346            | 10.897639            | Loitering            | \n",
       "| 256064000            | 10.693413            | -78.51280            | 10.484500            | -78.88430            | 2017-11-29T14:48:51Z | 2017-11-30T07:43:36Z | 1.5034558            | 18.001389            | Loitering            | \n",
       "| 256064000            | 11.858933            | -75.55338            | 12.007627            | -75.53563            | 2017-09-07T23:39:03Z | 2017-09-08T14:59:26Z | 0.6503549            | 16.193611            | Loitering            | \n",
       "| 256064000            | 45.938747            | -23.79696            | 45.976960            | -23.44939            | 2017-08-17T23:18:21Z | 2017-08-18T17:56:30Z | 1.0098737            | 19.748333            | Loitering            | \n",
       "| 256064000            |  3.100107            | -80.50907            |  3.170747            | -80.43064            | 2017-09-11T03:02:21Z | 2017-09-11T08:45:09Z | 1.1113524            |  8.163333            | Loitering            | \n",
       "\n",
       "\n"
      ],
      "text/plain": [
       "  transshipment_mmsi starting_latitude starting_longitude ending_latitude\n",
       "1 256064000          12.793800         -69.50323          12.727950      \n",
       "2 256064000          25.405013         -56.30280          25.393350      \n",
       "3 256064000          10.693413         -78.51280          10.484500      \n",
       "4 256064000          11.858933         -75.55338          12.007627      \n",
       "5 256064000          45.938747         -23.79696          45.976960      \n",
       "6 256064000           3.100107         -80.50907           3.170747      \n",
       "  ending_longitude starting_timestamp   ending_timestamp     median_speed_knots\n",
       "1 -69.73912        2017-09-06T02:11:32Z 2017-09-06T15:44:15Z 1.0910647         \n",
       "2 -56.48825        2017-07-22T13:19:49Z 2017-07-22T23:59:17Z 1.5483346         \n",
       "3 -78.88430        2017-11-29T14:48:51Z 2017-11-30T07:43:36Z 1.5034558         \n",
       "4 -75.53563        2017-09-07T23:39:03Z 2017-09-08T14:59:26Z 0.6503549         \n",
       "5 -23.44939        2017-08-17T23:18:21Z 2017-08-18T17:56:30Z 1.0098737         \n",
       "6 -80.43064        2017-09-11T03:02:21Z 2017-09-11T08:45:09Z 1.1113524         \n",
       "  total_event_duration Event_Type\n",
       "1 13.915556            Loitering \n",
       "2 10.897639            Loitering \n",
       "3 18.001389            Loitering \n",
       "4 16.193611            Loitering \n",
       "5 19.748333            Loitering \n",
       "6  8.163333            Loitering "
      ]
     },
     "metadata": {},
     "output_type": "display_data"
    }
   ],
   "source": [
    "csv.folder <- 'C:/Users/orhu8849/Documents/ArcGIS/Projects/Transshipment/csv'\n",
    "## Read in Loitering Events\n",
    "loitering.df <- read.csv(file = file.path(csv.folder, 'loitering-events-v20170717.csv'))\n",
    "loitering.df['Event_Type'] = 'Loitering'\n",
    "head(loitering.df)"
   ]
  },
  {
   "cell_type": "code",
   "execution_count": 5,
   "metadata": {},
   "outputs": [
    {
     "data": {
      "text/html": [
       "<table>\n",
       "<thead><tr><th scope=col>fishing_vessel_mmsi</th><th scope=col>transshipment_vessel_mmsi</th><th scope=col>start_time</th><th scope=col>end_time</th><th scope=col>mean_latitude</th><th scope=col>mean_longitude</th><th scope=col>duration_hr</th><th scope=col>median_distance_km</th><th scope=col>median_speed_knots</th><th scope=col>Event_Type</th></tr></thead>\n",
       "<tbody>\n",
       "\t<tr><td>416565000           </td><td>354240000           </td><td>2016-11-18T14:30:00Z</td><td>2016-11-19T01:50:00Z</td><td>-17.03909           </td><td>-79.06372           </td><td>11.33333            </td><td>0.03818823          </td><td>0.58540192          </td><td>Encounter           </td></tr>\n",
       "\t<tr><td>412679190           </td><td>354240000           </td><td>2016-12-11T14:50:00Z</td><td>2016-12-11T19:50:00Z</td><td>-20.26961           </td><td>-79.24495           </td><td> 5.00000            </td><td>0.02003331          </td><td>0.57566267          </td><td>Encounter           </td></tr>\n",
       "\t<tr><td>440863000           </td><td>354240000           </td><td>2017-06-13T12:50:00Z</td><td>2017-06-15T01:20:00Z</td><td>-62.64077           </td><td>-60.69024           </td><td>36.50000            </td><td>0.05499231          </td><td>0.01977473          </td><td>Encounter           </td></tr>\n",
       "\t<tr><td>416563000           </td><td>354240000           </td><td>2016-11-15T11:30:00Z</td><td>2016-11-16T04:00:00Z</td><td>-17.04659           </td><td>-79.06192           </td><td>16.50000            </td><td>0.03642717          </td><td>1.02391706          </td><td>Encounter           </td></tr>\n",
       "\t<tr><td>441309000           </td><td>354240000           </td><td>2017-05-19T00:40:00Z</td><td>2017-05-19T20:50:00Z</td><td>-46.62788           </td><td>-60.55492           </td><td>20.16667            </td><td>0.03405300          </td><td>0.54403111          </td><td>Encounter           </td></tr>\n",
       "\t<tr><td>416562000           </td><td>354240000           </td><td>2016-11-17T13:30:00Z</td><td>2016-11-18T02:30:00Z</td><td>-17.22009           </td><td>-79.07317           </td><td>13.00000            </td><td>0.04640635          </td><td>0.46329246          </td><td>Encounter           </td></tr>\n",
       "</tbody>\n",
       "</table>\n"
      ],
      "text/latex": [
       "\\begin{tabular}{r|llllllllll}\n",
       " fishing\\_vessel\\_mmsi & transshipment\\_vessel\\_mmsi & start\\_time & end\\_time & mean\\_latitude & mean\\_longitude & duration\\_hr & median\\_distance\\_km & median\\_speed\\_knots & Event\\_Type\\\\\n",
       "\\hline\n",
       "\t 416565000            & 354240000            & 2016-11-18T14:30:00Z & 2016-11-19T01:50:00Z & -17.03909            & -79.06372            & 11.33333             & 0.03818823           & 0.58540192           & Encounter           \\\\\n",
       "\t 412679190            & 354240000            & 2016-12-11T14:50:00Z & 2016-12-11T19:50:00Z & -20.26961            & -79.24495            &  5.00000             & 0.02003331           & 0.57566267           & Encounter           \\\\\n",
       "\t 440863000            & 354240000            & 2017-06-13T12:50:00Z & 2017-06-15T01:20:00Z & -62.64077            & -60.69024            & 36.50000             & 0.05499231           & 0.01977473           & Encounter           \\\\\n",
       "\t 416563000            & 354240000            & 2016-11-15T11:30:00Z & 2016-11-16T04:00:00Z & -17.04659            & -79.06192            & 16.50000             & 0.03642717           & 1.02391706           & Encounter           \\\\\n",
       "\t 441309000            & 354240000            & 2017-05-19T00:40:00Z & 2017-05-19T20:50:00Z & -46.62788            & -60.55492            & 20.16667             & 0.03405300           & 0.54403111           & Encounter           \\\\\n",
       "\t 416562000            & 354240000            & 2016-11-17T13:30:00Z & 2016-11-18T02:30:00Z & -17.22009            & -79.07317            & 13.00000             & 0.04640635           & 0.46329246           & Encounter           \\\\\n",
       "\\end{tabular}\n"
      ],
      "text/markdown": [
       "\n",
       "fishing_vessel_mmsi | transshipment_vessel_mmsi | start_time | end_time | mean_latitude | mean_longitude | duration_hr | median_distance_km | median_speed_knots | Event_Type | \n",
       "|---|---|---|---|---|---|\n",
       "| 416565000            | 354240000            | 2016-11-18T14:30:00Z | 2016-11-19T01:50:00Z | -17.03909            | -79.06372            | 11.33333             | 0.03818823           | 0.58540192           | Encounter            | \n",
       "| 412679190            | 354240000            | 2016-12-11T14:50:00Z | 2016-12-11T19:50:00Z | -20.26961            | -79.24495            |  5.00000             | 0.02003331           | 0.57566267           | Encounter            | \n",
       "| 440863000            | 354240000            | 2017-06-13T12:50:00Z | 2017-06-15T01:20:00Z | -62.64077            | -60.69024            | 36.50000             | 0.05499231           | 0.01977473           | Encounter            | \n",
       "| 416563000            | 354240000            | 2016-11-15T11:30:00Z | 2016-11-16T04:00:00Z | -17.04659            | -79.06192            | 16.50000             | 0.03642717           | 1.02391706           | Encounter            | \n",
       "| 441309000            | 354240000            | 2017-05-19T00:40:00Z | 2017-05-19T20:50:00Z | -46.62788            | -60.55492            | 20.16667             | 0.03405300           | 0.54403111           | Encounter            | \n",
       "| 416562000            | 354240000            | 2016-11-17T13:30:00Z | 2016-11-18T02:30:00Z | -17.22009            | -79.07317            | 13.00000             | 0.04640635           | 0.46329246           | Encounter            | \n",
       "\n",
       "\n"
      ],
      "text/plain": [
       "  fishing_vessel_mmsi transshipment_vessel_mmsi start_time          \n",
       "1 416565000           354240000                 2016-11-18T14:30:00Z\n",
       "2 412679190           354240000                 2016-12-11T14:50:00Z\n",
       "3 440863000           354240000                 2017-06-13T12:50:00Z\n",
       "4 416563000           354240000                 2016-11-15T11:30:00Z\n",
       "5 441309000           354240000                 2017-05-19T00:40:00Z\n",
       "6 416562000           354240000                 2016-11-17T13:30:00Z\n",
       "  end_time             mean_latitude mean_longitude duration_hr\n",
       "1 2016-11-19T01:50:00Z -17.03909     -79.06372      11.33333   \n",
       "2 2016-12-11T19:50:00Z -20.26961     -79.24495       5.00000   \n",
       "3 2017-06-15T01:20:00Z -62.64077     -60.69024      36.50000   \n",
       "4 2016-11-16T04:00:00Z -17.04659     -79.06192      16.50000   \n",
       "5 2017-05-19T20:50:00Z -46.62788     -60.55492      20.16667   \n",
       "6 2016-11-18T02:30:00Z -17.22009     -79.07317      13.00000   \n",
       "  median_distance_km median_speed_knots Event_Type\n",
       "1 0.03818823         0.58540192         Encounter \n",
       "2 0.02003331         0.57566267         Encounter \n",
       "3 0.05499231         0.01977473         Encounter \n",
       "4 0.03642717         1.02391706         Encounter \n",
       "5 0.03405300         0.54403111         Encounter \n",
       "6 0.04640635         0.46329246         Encounter "
      ]
     },
     "metadata": {},
     "output_type": "display_data"
    }
   ],
   "source": [
    "## Read in Encounter Events\n",
    "encounter.df <- read.csv(file = file.path(csv.folder, 'encounter-events-v20170717.csv'))\n",
    "encounter.df['Event_Type'] = 'Encounter'\n",
    "head(encounter.df)"
   ]
  },
  {
   "cell_type": "code",
   "execution_count": 6,
   "metadata": {},
   "outputs": [],
   "source": [
    "## Convert Tabular to Spatial Data Frame\n",
    "encounter.sdf <- st_as_sf(encounter.df, coords = c(\"mean_longitude\", \"mean_latitude\"))\n",
    "st_crs(encounter.sdf) = 4326\n",
    "\n",
    "## Convert Tabular to Spatial Data Frame\n",
    "loitering.sdf <- st_as_sf(loitering.df, coords = c(\"starting_longitude\", \"starting_latitude\"))\n",
    "st_crs(loitering.sdf) = 4326"
   ]
  },
  {
   "cell_type": "code",
   "execution_count": 7,
   "metadata": {},
   "outputs": [
    {
     "name": "stdout",
     "output_type": "stream",
     "text": [
      "[1] \"Transhipment duration distribution skewness:30.178759603994\"\n"
     ]
    }
   ],
   "source": [
    "duration.skew <- skewness(encounter.sdf$duration_hr)\n",
    "print(paste0(\"Transhipment duration distribution skewness:\", duration.skew))"
   ]
  },
  {
   "cell_type": "code",
   "execution_count": 8,
   "metadata": {},
   "outputs": [],
   "source": [
    "encounter.sdf['Duration_Log'] <- log1p(encounter.sdf$duration_hr) "
   ]
  },
  {
   "cell_type": "markdown",
   "metadata": {},
   "source": [
    "### Step 4. Write Out the Data to ArcGIS Pro for Analysis\n",
    "\n",
    "In the next step, we rite out the spatial data to ArcGIS Pro for analysis and mapping."
   ]
  },
  {
   "cell_type": "code",
   "execution_count": 9,
   "metadata": {},
   "outputs": [],
   "source": [
    "encounter.fc <- file.path(write.dir, 'encounter')\n",
    "loitering.fc <- file.path(write.dir, 'loitering')\n",
    "arc.write(encounter.fc, encounter.sdf, overwrite = TRUE)\n",
    "arc.write(loitering.fc, loitering.sdf, overwrite = TRUE)"
   ]
  },
  {
   "cell_type": "markdown",
   "metadata": {},
   "source": [
    "### Step 5. Create Interactive Maps and Run `arcpy`\n",
    "\n",
    "In the next step, we visualize transshipment events taking place globally. We use `esri.leaflet` to the operation below:"
   ]
  },
  {
   "cell_type": "code",
   "execution_count": 10,
   "metadata": {},
   "outputs": [],
   "source": [
    "## Plot \n",
    "L<-leaflet(elementId='encounters') %>%\n",
    "  addProviderTiles(providers$Esri.OceanBasemap) %>%\n",
    "  addCircleMarkers(data = encounter.sdf,  \n",
    "                   radius=5, \n",
    "                   label=~sprintf(\"Median Speed (Knots): %s\", encounter.sdf$median_speed_knots))"
   ]
  },
  {
   "cell_type": "markdown",
   "metadata": {},
   "source": [
    "<img src=\"map1.png\"/>"
   ]
  },
  {
   "cell_type": "markdown",
   "metadata": {},
   "source": [
    "### Step 6. Perform Density-Based Clustering of Transshipment Events\n",
    "\n",
    "Next, we model clusters in transshipment events using `Density-Based Clustering` method in `arcPy`."
   ]
  },
  {
   "cell_type": "code",
   "execution_count": 11,
   "metadata": {},
   "outputs": [
    {
     "data": {
      "text/plain": [
       "C:\\Users\\orhu8849\\Documents\\ArcGIS\\Projects\\Transshipment\\Transshipment.gdb\\encounter_clusters"
      ]
     },
     "metadata": {},
     "output_type": "display_data"
    }
   ],
   "source": [
    "encounter.clus <- file.path(write.dir, \"encounter_clusters\")\n",
    "arcpy$stats$DensityBasedClustering(encounter.fc, encounter.clus, \"HDBSCAN\", 500, NULL, NULL)\n",
    "\n",
    "encounter.HDBScan <- arc.select(arc.open(encounter.clus), where_clause = 'CLUSTER_ID <> -1')\n",
    "num.clust <- length(unique(encounter.HDBScan$COLOR_ID))\n",
    "\n",
    "cluster.pal <- colorFactor(topo.colors(num.clust), domain=encounter.HDBScan$COLOR_ID)\n",
    "L2<-leaflet(elementId='encounter_clusters') %>%\n",
    "  addProviderTiles(providers$Esri.OceanBasemap) %>%\n",
    "  addCircleMarkers(data = encounter.HDBScan,  \n",
    "                   radius=5, \n",
    "                   color=~cluster.pal(encounter.HDBScan$COLOR_ID))"
   ]
  },
  {
   "cell_type": "markdown",
   "metadata": {},
   "source": [
    "<img src=\"map2.png\"/>"
   ]
  },
  {
   "cell_type": "code",
   "execution_count": null,
   "metadata": {},
   "outputs": [],
   "source": [
    "loitering.clus <- file.path(write.dir, \"loitering_clusters\")\n",
    "arcpy$stats$DensityBasedClustering(loitering.fc, loitering.clus, \"HDBSCAN\", 500, NULL, NULL)\n",
    "\n",
    "\n",
    "loitering.HDBScan <- arc.select(arc.open(loitering.clus), where_clause = 'CLUSTER_ID <> -1')\n",
    "num.clust <- length(unique(loitering.HDBScan$COLOR_ID))\n",
    "\n",
    "cluster.pal <- colorFactor(topo.colors(num.clust), domain=loitering.HDBScan$COLOR_ID)\n",
    "\n",
    "L3 <-leaflet(elementId='encounter_clusters') %>%\n",
    "  addProviderTiles(providers$Esri.OceanBasemap) %>%\n",
    "  addCircleMarkers(data = loitering.HDBScan,  \n",
    "                   radius=5, \n",
    "                   color=~cluster.pal(loitering.HDBScan$COLOR_ID))"
   ]
  },
  {
   "cell_type": "markdown",
   "metadata": {},
   "source": [
    "<img src=\"map3.png\"/>"
   ]
  }
 ],
 "metadata": {
  "kernelspec": {
   "display_name": "R",
   "language": "R",
   "name": "ir"
  },
  "language_info": {
   "codemirror_mode": "r",
   "file_extension": ".r",
   "mimetype": "text/x-r-source",
   "name": "R",
   "pygments_lexer": "r",
   "version": "3.5.1"
  }
 },
 "nbformat": 4,
 "nbformat_minor": 4
}
