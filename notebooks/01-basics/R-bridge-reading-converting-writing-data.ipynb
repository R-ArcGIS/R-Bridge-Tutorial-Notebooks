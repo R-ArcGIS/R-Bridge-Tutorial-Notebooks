{
 "cells": [
  {
   "cell_type": "markdown",
   "metadata": {},
   "source": [
    "# Read, manipulate, and write data\n",
    "\n",
    "   The **arcgisbinding** package provides functionality that simplifies bringing ArcGIS data types into R and manipulating them so they are ready for analysis. On the simplest level, the bridge allows for the easy transfer of data back and forth between ArcGIS and R without having to manually convert data sets into a recognizable format. However, the functionality enables much more, everything from advanced data aggregations, subsets, and selections, to data manipulations regarding format or projections. All of this contained within a couple of functions to make the process simple. Through the power of the R-ArcGIS Bridge, you can easily transfer data from ArcGIS to R to gain access to the wealth of statistical packages and functions that you might need to further your analysis. Once finished, the bridge allows you to transfer your data back to ArcGIS to take advantage of the mapping, publishing, and sharing aspects of ArcGIS. \n",
    "\n",
    "See below for the various topics pertaining to **arcgisbinding** package functionality. Each topic has a section containing details on how the functionality works along with practice examples. \n",
    "\n",
    " - Read: [Reading ArcGIS Data Into R](#Read:-Reading-ArcGIS-Data-Into-R)\n",
    "  - [arc.open Functionality](#arc.open-Functionality)    \n",
    " - Manipulate: [Manipulating ArcGIS Data In R](#Manipulate:-Manipulating-ArcGIS-Data-In-R)\n",
    "  - [Vector Data](#Vector-Data)\n",
    "    - [arc.select Functionality](#arc.select-Functionality)\n",
    "       - [Column Selections](#Column-Selections)\n",
    "       - [Data Subsets with SQL Queries](#Data-Subsets-with-SQL-Queries)\n",
    "       - [Reprojecting](#Reprojecting)\n",
    "    - [arc.data2sp Functionality](#arc.data2sp-Functionality)\n",
    "    - [arc.data2sf Functionality](#arc.data2sf-Functionality)\n",
    "  - [Raster Data](#Raster-Data)\n",
    "    - [arc.raster Functionality](#arc.raster-Functionality)\n",
    "       - [Pixel Selections](#Pixel-Selections)\n",
    "       - [Pixel Type Adjustments](#Pixel-Type-Adjustments)\n",
    "       - [Resampling](#Resampling)\n",
    "       - [Reprojecting](#Reprojecting)\n",
    "    - [as.raster Functionality](#as.raster-Functionality)\n",
    "    - [Mosaic Datasets](#Mosaic-Datasets)\n",
    " - Write: [Writing R Data Into ArcGIS](#Write:-Writing-R-Data-Into-ArcGIS)\n",
    "    - [arc.write Functionality](#arc.write-Functionality)    \n",
    " - Delete: [Remove and Replace Data](#Delete:-Remove-and-Replace-Data)\n",
    "    - [arc.delete Functionality](#arc.delete-Functionality)    \n",
    " - [Exercise: Analyze Crime Using Statistics and the R-ArcGIS Bridge](#Exercise:-Analyze-Crime-Using-Statistics-and-the-R-ArcGIS-Bridge)"
   ]
  },
  {
   "cell_type": "markdown",
   "metadata": {},
   "source": [
    " ## Read: Reading ArcGIS Data Into R\n",
    " \n",
    " The first main use of the bridge is to transfer data from ArcGIS to R. When you are first getting started with the bridge, the functions that you will use most often include:\n",
    "\n",
    " * `arc.check_product()`\n",
    " \n",
    " * `arc.open()`\n",
    " \n",
    "Once you have initialized the bridge connection in ArcGIS by installing the **arcgisbinding** package into your R workspace, see the R-bridge-install-and-setup Jupyter Notebook for full details, you will finalize the connection between ArcGIS and R by using the `arc.check_product()` function in R. This function does not take any arguments and will return details regarding your current ArcGIS installation and your current version of the **arcgisbinding** package. \n",
    "\n",
    "```R\n",
    "arc.check_product()\n",
    "```\n",
    "\n",
    "When starting a new R session or script, you will always begin with the following:"
   ]
  },
  {
   "cell_type": "code",
   "execution_count": 2,
   "metadata": {},
   "outputs": [
    {
     "name": "stderr",
     "output_type": "stream",
     "text": [
      "Warning message:\n",
      "\"package 'arcgisbinding' was built under R version 3.5.0\"*** Please call arc.check_product() to define a desktop license.\n"
     ]
    },
    {
     "data": {
      "text/html": [
       "<dl>\n",
       "\t<dt>$license</dt>\n",
       "\t\t<dd>'Advanced'</dd>\n",
       "\t<dt>$version</dt>\n",
       "\t\t<dd>'12.2.0.12813'</dd>\n",
       "\t<dt>$path</dt>\n",
       "\t\t<dd>'C:\\\\ArcGIS\\\\Pro\\\\'</dd>\n",
       "\t<dt>$dll</dt>\n",
       "\t\t<dd>'rarcproxy_pro'</dd>\n",
       "\t<dt>$app</dt>\n",
       "\t\t<dd>'ArcGIS Pro'</dd>\n",
       "\t<dt>$pkg_ver</dt>\n",
       "\t\t<dd>'1.0.1.230'</dd>\n",
       "</dl>\n"
      ],
      "text/latex": [
       "\\begin{description}\n",
       "\\item[\\$license] 'Advanced'\n",
       "\\item[\\$version] '12.2.0.12813'\n",
       "\\item[\\$path] 'C:\\textbackslash{}\\textbackslash{}ArcGIS\\textbackslash{}\\textbackslash{}Pro\\textbackslash{}\\textbackslash{}'\n",
       "\\item[\\$dll] 'rarcproxy\\_pro'\n",
       "\\item[\\$app] 'ArcGIS Pro'\n",
       "\\item[\\$pkg\\_ver] '1.0.1.230'\n",
       "\\end{description}\n"
      ],
      "text/markdown": [
       "$license\n",
       ":   'Advanced'\n",
       "$version\n",
       ":   '12.2.0.12813'\n",
       "$path\n",
       ":   'C:\\\\ArcGIS\\\\Pro\\\\'\n",
       "$dll\n",
       ":   'rarcproxy_pro'\n",
       "$app\n",
       ":   'ArcGIS Pro'\n",
       "$pkg_ver\n",
       ":   '1.0.1.230'\n",
       "\n",
       "\n"
      ],
      "text/plain": [
       "product: ArcGIS Pro ( 12.2.0.12813 )\n",
       "license: Advanced \n",
       "version: 1.0.1.230 "
      ]
     },
     "metadata": {},
     "output_type": "display_data"
    }
   ],
   "source": [
    "library(arcgisbinding)\n",
    "arc.check_product()"
   ]
  },
  {
   "cell_type": "markdown",
   "metadata": {},
   "source": [
    "After you have successfully connected ArcGIS and R, you can begin loading your data into your desired workspace. For GIS data that is currently stored in a shapefile, file geodatabase, table, feature service, or ArcGIS supported raster data type, you will begin by using the `arc.open()` function to read it into R. \n",
    " \n",
    " ### arc.open Functionality\n",
    " \n",
    " These Jupyter Notebooks come with sample data which, we will use for the purpose of demonstrating the functions contained in the **arcgisbinding** package in the following tutorials. Most of this data has been stored in a file geodatabase called 'data.gdb' which is contained in a folder called 'data' along with some shapefiles. This same data has been made available for you as well, so if desired, you can follow along or practice in R or RStudio.\n",
    " \n",
    " To access this data in these notebooks, we can start by checking where our current working directory is located by using the `getwd()` core R function. This function returns the path of our working directory and comes with the core packages included with R by default. \n",
    " "
   ]
  },
  {
   "cell_type": "code",
   "execution_count": 2,
   "metadata": {},
   "outputs": [
    {
     "data": {
      "text/html": [
       "'C:/ArcGIS/Pro/bin/Python/envs/arcgispro-r'"
      ],
      "text/latex": [
       "'C:/ArcGIS/Pro/bin/Python/envs/arcgispro-r'"
      ],
      "text/markdown": [
       "'C:/ArcGIS/Pro/bin/Python/envs/arcgispro-r'"
      ],
      "text/plain": [
       "[1] \"C:/ArcGIS/Pro/bin/Python/envs/arcgispro-r\""
      ]
     },
     "metadata": {},
     "output_type": "display_data"
    }
   ],
   "source": [
    "getwd()"
   ]
  },
  {
   "cell_type": "markdown",
   "metadata": {},
   "source": [
    "Our working environment is set to the file path pertaining to a conda environment created for this Jupyter Notebook. This environment contains R and all the packages we will use throughout most of our exercises. The 'data' folder is located at this location as well. So to access data from it, we simply need to provide that folder information in our R function calls. We can check this out by inspecting the items contained in this location. "
   ]
  },
  {
   "cell_type": "code",
   "execution_count": 3,
   "metadata": {
    "scrolled": true
   },
   "outputs": [
    {
     "data": {
      "text/html": [
       "<ol class=list-inline>\n",
       "\t<li>'crashes_per_mile.CPG'</li>\n",
       "\t<li>'crashes_per_mile.dbf'</li>\n",
       "\t<li>'crashes_per_mile.prj'</li>\n",
       "\t<li>'crashes_per_mile.sbn'</li>\n",
       "\t<li>'crashes_per_mile.sbx'</li>\n",
       "\t<li>'crashes_per_mile.shp'</li>\n",
       "\t<li>'crashes_per_mile.shp.xml'</li>\n",
       "\t<li>'crashes_per_mile.shx'</li>\n",
       "\t<li>'data.gdb'</li>\n",
       "\t<li>'new_pts.cpg'</li>\n",
       "\t<li>'new_pts.dbf'</li>\n",
       "\t<li>'new_pts.shp'</li>\n",
       "\t<li>'new_pts.shx'</li>\n",
       "\t<li>'ScanStatistic.R'</li>\n",
       "\t<li>'ScanStatistic_Solution.R'</li>\n",
       "</ol>\n"
      ],
      "text/latex": [
       "\\begin{enumerate*}\n",
       "\\item 'crashes\\_per\\_mile.CPG'\n",
       "\\item 'crashes\\_per\\_mile.dbf'\n",
       "\\item 'crashes\\_per\\_mile.prj'\n",
       "\\item 'crashes\\_per\\_mile.sbn'\n",
       "\\item 'crashes\\_per\\_mile.sbx'\n",
       "\\item 'crashes\\_per\\_mile.shp'\n",
       "\\item 'crashes\\_per\\_mile.shp.xml'\n",
       "\\item 'crashes\\_per\\_mile.shx'\n",
       "\\item 'data.gdb'\n",
       "\\item 'new\\_pts.cpg'\n",
       "\\item 'new\\_pts.dbf'\n",
       "\\item 'new\\_pts.shp'\n",
       "\\item 'new\\_pts.shx'\n",
       "\\item 'ScanStatistic.R'\n",
       "\\item 'ScanStatistic\\_Solution.R'\n",
       "\\end{enumerate*}\n"
      ],
      "text/markdown": [
       "1. 'crashes_per_mile.CPG'\n",
       "2. 'crashes_per_mile.dbf'\n",
       "3. 'crashes_per_mile.prj'\n",
       "4. 'crashes_per_mile.sbn'\n",
       "5. 'crashes_per_mile.sbx'\n",
       "6. 'crashes_per_mile.shp'\n",
       "7. 'crashes_per_mile.shp.xml'\n",
       "8. 'crashes_per_mile.shx'\n",
       "9. 'data.gdb'\n",
       "10. 'new_pts.cpg'\n",
       "11. 'new_pts.dbf'\n",
       "12. 'new_pts.shp'\n",
       "13. 'new_pts.shx'\n",
       "14. 'ScanStatistic.R'\n",
       "15. 'ScanStatistic_Solution.R'\n",
       "\n",
       "\n"
      ],
      "text/plain": [
       " [1] \"crashes_per_mile.CPG\"     \"crashes_per_mile.dbf\"    \n",
       " [3] \"crashes_per_mile.prj\"     \"crashes_per_mile.sbn\"    \n",
       " [5] \"crashes_per_mile.sbx\"     \"crashes_per_mile.shp\"    \n",
       " [7] \"crashes_per_mile.shp.xml\" \"crashes_per_mile.shx\"    \n",
       " [9] \"data.gdb\"                 \"new_pts.cpg\"             \n",
       "[11] \"new_pts.dbf\"              \"new_pts.shp\"             \n",
       "[13] \"new_pts.shx\"              \"ScanStatistic.R\"         \n",
       "[15] \"ScanStatistic_Solution.R\""
      ]
     },
     "metadata": {},
     "output_type": "display_data"
    }
   ],
   "source": [
    "list.files(path = \"data\")"
   ]
  },
  {
   "cell_type": "markdown",
   "metadata": {},
   "source": [
    "Now that we have a better idea of where the data for these notebooks is located, we can begin taking advantage of bridge functionality. To use the `arc.open()` function, the only argument needed is the path location at which the data you are trying to load is stored. In this case, that absolute path is `'C:/ArcGIS/Pro/bin/Python/envs/arcgispro-r/data'` for any ArcGIS shapefiles or `'C:/ArcGIS/Pro/bin/Python/envs/arcgispro-r/data/data.gdb'` for the datasets stored within this file geodatabase which include:\n",
    "* African_Buffalo_Locations\n",
    "* Billboard_Faces\n",
    "* San_Francisco_Crimes\n",
    "* World_Bioclimates_Study_Area_SM\n",
    "* World_Distance_to_Water_Stud_SM\n",
    "* World_Ecological_Facets_Stud_SM\n",
    "* World_Land_Cover_Study_Area_SM\n",
    "* World_Lithology_Study_Area_0_SM\n",
    "\n",
    "If we were to start by opening the crashes_per_mile.shp in our data folder, we would begin by calling the `arc.open()` function with the relative path location of this shapefile as its argument. We do not need the absolute path in this case since our working directory is already set to `'C:/ArcGIS/Pro/bin/Python/envs/arcgispro-r/'`. \n",
    "\n",
    "```R\n",
    "crashes_arc <- arc.open(\"data/crashes_per_mile.shp\")\n",
    "```"
   ]
  },
  {
   "cell_type": "markdown",
   "metadata": {},
   "source": [
    "The sample data is now stored in the `crashes_arc` variable which is an `arc.dataset` object of class S4. This enables you to gain easy access to your data's metadata, such as its extent, a list of field names, and its geometry information.\n",
    "\n",
    "```R\n",
    "crashes_arc.dataset@extent\n",
    "crashes_arc.dataset@fields\n",
    "crashes_arc.dataset@shapeinfo\n",
    "``` \n",
    "\n",
    "We see this for ourselves in this Jupyter Notebook by inserting an R code box below and executing the lines from above. "
   ]
  },
  {
   "cell_type": "code",
   "execution_count": 4,
   "metadata": {},
   "outputs": [
    {
     "data": {
      "text/html": [
       "<dl class=dl-horizontal>\n",
       "\t<dt>xmin</dt>\n",
       "\t\t<dd>230656.05498064</dd>\n",
       "\t<dt>ymin</dt>\n",
       "\t\t<dd>4094991.41312572</dd>\n",
       "\t<dt>xmax</dt>\n",
       "\t\t<dd>673579.21539663</dd>\n",
       "\t<dt>ymax</dt>\n",
       "\t\t<dd>4651709.20364443</dd>\n",
       "</dl>\n"
      ],
      "text/latex": [
       "\\begin{description*}\n",
       "\\item[xmin] 230656.05498064\n",
       "\\item[ymin] 4094991.41312572\n",
       "\\item[xmax] 673579.21539663\n",
       "\\item[ymax] 4651709.20364443\n",
       "\\end{description*}\n"
      ],
      "text/markdown": [
       "xmin\n",
       ":   230656.05498064ymin\n",
       ":   4094991.41312572xmax\n",
       ":   673579.21539663ymax\n",
       ":   4651709.20364443\n",
       "\n"
      ],
      "text/plain": [
       "     xmin      ymin      xmax      ymax \n",
       " 230656.1 4094991.4  673579.2 4651709.2 "
      ]
     },
     "metadata": {},
     "output_type": "display_data"
    },
    {
     "data": {
      "text/html": [
       "<dl>\n",
       "\t<dt>$FID</dt>\n",
       "\t\t<dd>'OID'</dd>\n",
       "\t<dt>$Shape</dt>\n",
       "\t\t<dd>'Geometry'</dd>\n",
       "\t<dt>$OBJECTID</dt>\n",
       "\t\t<dd>'Integer'</dd>\n",
       "\t<dt>$RouteNm</dt>\n",
       "\t\t<dd>'String'</dd>\n",
       "\t<dt>$LABEL</dt>\n",
       "\t\t<dd>'String'</dd>\n",
       "\t<dt>$BEG_MP</dt>\n",
       "\t\t<dd>'Double'</dd>\n",
       "\t<dt>$END_MP</dt>\n",
       "\t\t<dd>'Double'</dd>\n",
       "\t<dt>$DESCRIP</dt>\n",
       "\t\t<dd>'String'</dd>\n",
       "\t<dt>$REGION</dt>\n",
       "\t\t<dd>'Integer'</dd>\n",
       "\t<dt>$AVG_AADT</dt>\n",
       "\t\t<dd>'Double'</dd>\n",
       "\t<dt>$FC_NAME</dt>\n",
       "\t\t<dd>'String'</dd>\n",
       "\t<dt>$TOT_C</dt>\n",
       "\t\t<dd>'Integer'</dd>\n",
       "\t<dt>$C_MI</dt>\n",
       "\t\t<dd>'Double'</dd>\n",
       "\t<dt>$C_SCORE</dt>\n",
       "\t\t<dd>'Integer'</dd>\n",
       "\t<dt>$PROTECTED</dt>\n",
       "\t\t<dd>'String'</dd>\n",
       "\t<dt>$State_FA</dt>\n",
       "\t\t<dd>'String'</dd>\n",
       "</dl>\n"
      ],
      "text/latex": [
       "\\begin{description}\n",
       "\\item[\\$FID] 'OID'\n",
       "\\item[\\$Shape] 'Geometry'\n",
       "\\item[\\$OBJECTID] 'Integer'\n",
       "\\item[\\$RouteNm] 'String'\n",
       "\\item[\\$LABEL] 'String'\n",
       "\\item[\\$BEG\\_MP] 'Double'\n",
       "\\item[\\$END\\_MP] 'Double'\n",
       "\\item[\\$DESCRIP] 'String'\n",
       "\\item[\\$REGION] 'Integer'\n",
       "\\item[\\$AVG\\_AADT] 'Double'\n",
       "\\item[\\$FC\\_NAME] 'String'\n",
       "\\item[\\$TOT\\_C] 'Integer'\n",
       "\\item[\\$C\\_MI] 'Double'\n",
       "\\item[\\$C\\_SCORE] 'Integer'\n",
       "\\item[\\$PROTECTED] 'String'\n",
       "\\item[\\$State\\_FA] 'String'\n",
       "\\end{description}\n"
      ],
      "text/markdown": [
       "$FID\n",
       ":   'OID'\n",
       "$Shape\n",
       ":   'Geometry'\n",
       "$OBJECTID\n",
       ":   'Integer'\n",
       "$RouteNm\n",
       ":   'String'\n",
       "$LABEL\n",
       ":   'String'\n",
       "$BEG_MP\n",
       ":   'Double'\n",
       "$END_MP\n",
       ":   'Double'\n",
       "$DESCRIP\n",
       ":   'String'\n",
       "$REGION\n",
       ":   'Integer'\n",
       "$AVG_AADT\n",
       ":   'Double'\n",
       "$FC_NAME\n",
       ":   'String'\n",
       "$TOT_C\n",
       ":   'Integer'\n",
       "$C_MI\n",
       ":   'Double'\n",
       "$C_SCORE\n",
       ":   'Integer'\n",
       "$PROTECTED\n",
       ":   'String'\n",
       "$State_FA\n",
       ":   'String'\n",
       "\n",
       "\n"
      ],
      "text/plain": [
       "$FID\n",
       "[1] \"OID\"\n",
       "\n",
       "$Shape\n",
       "[1] \"Geometry\"\n",
       "\n",
       "$OBJECTID\n",
       "[1] \"Integer\"\n",
       "\n",
       "$RouteNm\n",
       "[1] \"String\"\n",
       "\n",
       "$LABEL\n",
       "[1] \"String\"\n",
       "\n",
       "$BEG_MP\n",
       "[1] \"Double\"\n",
       "\n",
       "$END_MP\n",
       "[1] \"Double\"\n",
       "\n",
       "$DESCRIP\n",
       "[1] \"String\"\n",
       "\n",
       "$REGION\n",
       "[1] \"Integer\"\n",
       "\n",
       "$AVG_AADT\n",
       "[1] \"Double\"\n",
       "\n",
       "$FC_NAME\n",
       "[1] \"String\"\n",
       "\n",
       "$TOT_C\n",
       "[1] \"Integer\"\n",
       "\n",
       "$C_MI\n",
       "[1] \"Double\"\n",
       "\n",
       "$C_SCORE\n",
       "[1] \"Integer\"\n",
       "\n",
       "$PROTECTED\n",
       "[1] \"String\"\n",
       "\n",
       "$State_FA\n",
       "[1] \"String\"\n"
      ]
     },
     "metadata": {},
     "output_type": "display_data"
    },
    {
     "data": {
      "text/html": [
       "<dl>\n",
       "\t<dt>$type</dt>\n",
       "\t\t<dd>'Polyline'</dd>\n",
       "\t<dt>$hasZ</dt>\n",
       "\t\t<dd>FALSE</dd>\n",
       "\t<dt>$hasM</dt>\n",
       "\t\t<dd>FALSE</dd>\n",
       "\t<dt>$WKT</dt>\n",
       "\t\t<dd>'PROJCS[\"NAD_1983_UTM_Zone_12N\",GEOGCS[\"GCS_North_American_1983\",DATUM[\"D_North_American_1983\",SPHEROID[\"GRS_1980\",6378137.0,298.257222101]],PRIMEM[\"Greenwich\",0.0],UNIT[\"Degree\",0.0174532925199433]],PROJECTION[\"Transverse_Mercator\"],PARAMETER[\"False_Easting\",500000.0],PARAMETER[\"False_Northing\",0.0],PARAMETER[\"Central_Meridian\",-111.0],PARAMETER[\"Scale_Factor\",0.9996],PARAMETER[\"Latitude_Of_Origin\",0.0],UNIT[\"Meter\",1.0]]'</dd>\n",
       "\t<dt>$WKID</dt>\n",
       "\t\t<dd>26912</dd>\n",
       "</dl>\n"
      ],
      "text/latex": [
       "\\begin{description}\n",
       "\\item[\\$type] 'Polyline'\n",
       "\\item[\\$hasZ] FALSE\n",
       "\\item[\\$hasM] FALSE\n",
       "\\item[\\$WKT] 'PROJCS{[}\"NAD\\_1983\\_UTM\\_Zone\\_12N\",GEOGCS{[}\"GCS\\_North\\_American\\_1983\",DATUM{[}\"D\\_North\\_American\\_1983\",SPHEROID{[}\"GRS\\_1980\",6378137.0,298.257222101{]}{]},PRIMEM{[}\"Greenwich\",0.0{]},UNIT{[}\"Degree\",0.0174532925199433{]}{]},PROJECTION{[}\"Transverse\\_Mercator\"{]},PARAMETER{[}\"False\\_Easting\",500000.0{]},PARAMETER{[}\"False\\_Northing\",0.0{]},PARAMETER{[}\"Central\\_Meridian\",-111.0{]},PARAMETER{[}\"Scale\\_Factor\",0.9996{]},PARAMETER{[}\"Latitude\\_Of\\_Origin\",0.0{]},UNIT{[}\"Meter\",1.0{]}{]}'\n",
       "\\item[\\$WKID] 26912\n",
       "\\end{description}\n"
      ],
      "text/markdown": [
       "$type\n",
       ":   'Polyline'\n",
       "$hasZ\n",
       ":   FALSE\n",
       "$hasM\n",
       ":   FALSE\n",
       "$WKT\n",
       ":   'PROJCS[\"NAD_1983_UTM_Zone_12N\",GEOGCS[\"GCS_North_American_1983\",DATUM[\"D_North_American_1983\",SPHEROID[\"GRS_1980\",6378137.0,298.257222101]],PRIMEM[\"Greenwich\",0.0],UNIT[\"Degree\",0.0174532925199433]],PROJECTION[\"Transverse_Mercator\"],PARAMETER[\"False_Easting\",500000.0],PARAMETER[\"False_Northing\",0.0],PARAMETER[\"Central_Meridian\",-111.0],PARAMETER[\"Scale_Factor\",0.9996],PARAMETER[\"Latitude_Of_Origin\",0.0],UNIT[\"Meter\",1.0]]'\n",
       "$WKID\n",
       ":   26912\n",
       "\n",
       "\n"
      ],
      "text/plain": [
       "geometry type   : Polyline\n",
       "WKT             : PROJCS[\"NAD_1983_UTM_Zone_12N\",GEOGCS[\"GCS_North_American_19...\n",
       "WKID            : 26912 "
      ]
     },
     "metadata": {},
     "output_type": "display_data"
    }
   ],
   "source": [
    "crashes_arc <- arc.open(\"data/crashes_per_mile.shp\")\n",
    "crashes_arc@extent\n",
    "crashes_arc@fields\n",
    "crashes_arc@shapeinfo"
   ]
  },
  {
   "cell_type": "markdown",
   "metadata": {},
   "source": [
    "If you wish to learn more, check out our documentation by running the following line in the R code box below:"
   ]
  },
  {
   "cell_type": "code",
   "execution_count": 27,
   "metadata": {},
   "outputs": [],
   "source": [
    "?arc.open()"
   ]
  },
  {
   "cell_type": "markdown",
   "metadata": {},
   "source": [
    "## Manipulate: Manipulating ArcGIS Data In R\n",
    "\n",
    "In its simplest use case, the **arcgisbinding** package can be used to establish a connection to an ArcGIS data type and then to convert that data type into a recognized R object, specifically either a data frame or a spatial data frame. However, other R packages offer similar functionality and as a result, the **arcgisbinding** package distinguishes itself by offering advanced data manipulations within its conversion functions to enable not only the easy transfer of data, but also the ability to transform your data into its desired state needed for a specific R analysis function. A variety of different options are available for vector data and for raster data. To begin, we will examine all of the bridge functionality pertaining to a vector data set. \n",
    "\n",
    "### Vector Data\n",
    "\n",
    "While the `arc.open()` function works with all ArcGIS data types, whether vector or raster, to establish a connection to your desired ArcGIS data, the **arcgisbinding** package has two seperate functions for converting and manipulating data depending on the type of data you wish to bring into R. The `arc.select()` function is what is used for a vector dataset contained within any type of ArcGIS supported format be it a shapefile, file geodatabase, hosted feature layer, or table.\n",
    "\n",
    "#### arc.select Functionality\n",
    "\n",
    "The `arc.select` function is used to convert your data set into an R data frame object. This function also offers you the ability to choose specific attributes from your data set to work with, the ability to construct SQL queries to only bring in certain observations based on the criteria of your analysis, and can be used to reproject your data. Each one of these actions can be accomplished by taking advantage of the arguments of the `arc.select()` function. To help explore this functionality, we will cover each one in turn. \n",
    "\n",
    "To begin, let's start with the simplest use case. We simply wish to convert an ArcGIS vector data set into an R recognized object. In this case, after using the `arc.open()` function to establish a connection with our desired data set, we can use the `arc.select` function on the result generated from `arc.open()` to convert our data into an R data frame object. Let's take our `crashes_per_mile` shapefile as an example:\n",
    "\n",
    "```R\n",
    "crashes_arc <- arc.open(\"data/crashes_per_mile.shp\")\n",
    "crashes_df <- arc.select(crashes_arc)\n",
    "```\n",
    "Our `crashes_per_mile` ArcGIS shapefile is now in R as a data frame and any R function that takes a data frame as part of its arguments can now be used on it. For example, we can take a peek at the first 6 rows of this data frame in R by using the `head()` function. "
   ]
  },
  {
   "cell_type": "code",
   "execution_count": 5,
   "metadata": {},
   "outputs": [
    {
     "data": {
      "text/html": [
       "<table>\n",
       "<thead><tr><th scope=col>FID</th><th scope=col>OBJECTID</th><th scope=col>RouteNm</th><th scope=col>LABEL</th><th scope=col>BEG_MP</th><th scope=col>END_MP</th><th scope=col>DESCRIP</th><th scope=col>REGION</th><th scope=col>AVG_AADT</th><th scope=col>FC_NAME</th><th scope=col>TOT_C</th><th scope=col>C_MI</th><th scope=col>C_SCORE</th><th scope=col>PROTECTED</th><th scope=col>State_FA</th></tr></thead>\n",
       "<tbody>\n",
       "\t<tr><td>0                                                         </td><td>1                                                         </td><td>I-15                                                      </td><td>0015N                                                     </td><td> 88.353                                                   </td><td> 94.453                                                   </td><td>SR 271 Paragonah                                          </td><td>4                                                         </td><td>16786.667                                                 </td><td>Rural Interstate                                          </td><td> 35                                                       </td><td> 1.915709                                                 </td><td>2                                                         </td><td>23 USC 409                                                </td><td>State                                                     </td></tr>\n",
       "\t<tr><td>1                                                         </td><td>2                                                         </td><td>I-215                                                     </td><td>0215P                                                     </td><td>  7.697                                                   </td><td>  9.216                                                   </td><td>SR 152 2000 East (Highland Drive)                         </td><td>2                                                         </td><td>86801.667                                                 </td><td>Urban Interstate                                          </td><td>101                                                       </td><td>22.295806                                                 </td><td>4                                                         </td><td>23 USC 409                                                </td><td>State                                                     </td></tr>\n",
       "\t<tr><td>2                                                         </td><td>3                                                         </td><td>SR-151                                                    </td><td>0151P                                                     </td><td>  0.000                                                   </td><td>  1.004                                                   </td><td>Bangerter Highway via 10400 South                         </td><td>2                                                         </td><td>19135.000                                                 </td><td>Urban Principal Arterial                                  </td><td> 63                                                       </td><td>21.000000                                                 </td><td>4                                                         </td><td>23 USC 409                                                </td><td>State                                                     </td></tr>\n",
       "\t<tr><td>3                                                         </td><td>4                                                         </td><td>SR-115                                                    </td><td>0115P                                                     </td><td>  7.072                                                   </td><td>  8.247                                                   </td><td>Rt turns on 6800 South - SR 156                           </td><td>3                                                         </td><td> 2836.667                                                 </td><td>Urban Collector                                           </td><td> 17                                                       </td><td> 4.843305                                                 </td><td>3                                                         </td><td>23 USC 409                                                </td><td>State                                                     </td></tr>\n",
       "\t<tr><td>4                                                         </td><td>5                                                         </td><td>SR-13                                                     </td><td>0013P                                                     </td><td>  1.343                                                   </td><td>  2.872                                                   </td><td>SR 90 (200 S) via SR 13 (Main St) - Forest St Brigham City</td><td>1                                                         </td><td>13583.588                                                 </td><td>Urban Principal Arterial                                  </td><td> 84                                                       </td><td>18.421053                                                 </td><td>4                                                         </td><td>23 USC 409                                                </td><td>State                                                     </td></tr>\n",
       "\t<tr><td>5                                                         </td><td>6                                                         </td><td>I-80                                                      </td><td>0080N                                                     </td><td>111.190                                                   </td><td>113.276                                                   </td><td>SR 202 Saltair Drive (Garfield Cutoff)                    </td><td>2                                                         </td><td>22017.678                                                 </td><td>Urban Interstate                                          </td><td> 68                                                       </td><td>10.897436                                                 </td><td>3                                                         </td><td>23 USC 409                                                </td><td>State                                                     </td></tr>\n",
       "</tbody>\n",
       "</table>\n"
      ],
      "text/latex": [
       "\\begin{tabular}{r|lllllllllllllll}\n",
       " FID & OBJECTID & RouteNm & LABEL & BEG\\_MP & END\\_MP & DESCRIP & REGION & AVG\\_AADT & FC\\_NAME & TOT\\_C & C\\_MI & C\\_SCORE & PROTECTED & State\\_FA\\\\\n",
       "\\hline\n",
       "\t 0                                                          & 1                                                          & I-15                                                       & 0015N                                                      &  88.353                                                    &  94.453                                                    & SR 271 Paragonah                                           & 4                                                          & 16786.667                                                  & Rural Interstate                                           &  35                                                        &  1.915709                                                  & 2                                                          & 23 USC 409                                                 & State                                                     \\\\\n",
       "\t 1                                                          & 2                                                          & I-215                                                      & 0215P                                                      &   7.697                                                    &   9.216                                                    & SR 152 2000 East (Highland Drive)                          & 2                                                          & 86801.667                                                  & Urban Interstate                                           & 101                                                        & 22.295806                                                  & 4                                                          & 23 USC 409                                                 & State                                                     \\\\\n",
       "\t 2                                                          & 3                                                          & SR-151                                                     & 0151P                                                      &   0.000                                                    &   1.004                                                    & Bangerter Highway via 10400 South                          & 2                                                          & 19135.000                                                  & Urban Principal Arterial                                   &  63                                                        & 21.000000                                                  & 4                                                          & 23 USC 409                                                 & State                                                     \\\\\n",
       "\t 3                                                          & 4                                                          & SR-115                                                     & 0115P                                                      &   7.072                                                    &   8.247                                                    & Rt turns on 6800 South - SR 156                            & 3                                                          &  2836.667                                                  & Urban Collector                                            &  17                                                        &  4.843305                                                  & 3                                                          & 23 USC 409                                                 & State                                                     \\\\\n",
       "\t 4                                                          & 5                                                          & SR-13                                                      & 0013P                                                      &   1.343                                                    &   2.872                                                    & SR 90 (200 S) via SR 13 (Main St) - Forest St Brigham City & 1                                                          & 13583.588                                                  & Urban Principal Arterial                                   &  84                                                        & 18.421053                                                  & 4                                                          & 23 USC 409                                                 & State                                                     \\\\\n",
       "\t 5                                                          & 6                                                          & I-80                                                       & 0080N                                                      & 111.190                                                    & 113.276                                                    & SR 202 Saltair Drive (Garfield Cutoff)                     & 2                                                          & 22017.678                                                  & Urban Interstate                                           &  68                                                        & 10.897436                                                  & 3                                                          & 23 USC 409                                                 & State                                                     \\\\\n",
       "\\end{tabular}\n"
      ],
      "text/markdown": [
       "\n",
       "FID | OBJECTID | RouteNm | LABEL | BEG_MP | END_MP | DESCRIP | REGION | AVG_AADT | FC_NAME | TOT_C | C_MI | C_SCORE | PROTECTED | State_FA | \n",
       "|---|---|---|---|---|---|\n",
       "| 0                                                          | 1                                                          | I-15                                                       | 0015N                                                      |  88.353                                                    |  94.453                                                    | SR 271 Paragonah                                           | 4                                                          | 16786.667                                                  | Rural Interstate                                           |  35                                                        |  1.915709                                                  | 2                                                          | 23 USC 409                                                 | State                                                      | \n",
       "| 1                                                          | 2                                                          | I-215                                                      | 0215P                                                      |   7.697                                                    |   9.216                                                    | SR 152 2000 East (Highland Drive)                          | 2                                                          | 86801.667                                                  | Urban Interstate                                           | 101                                                        | 22.295806                                                  | 4                                                          | 23 USC 409                                                 | State                                                      | \n",
       "| 2                                                          | 3                                                          | SR-151                                                     | 0151P                                                      |   0.000                                                    |   1.004                                                    | Bangerter Highway via 10400 South                          | 2                                                          | 19135.000                                                  | Urban Principal Arterial                                   |  63                                                        | 21.000000                                                  | 4                                                          | 23 USC 409                                                 | State                                                      | \n",
       "| 3                                                          | 4                                                          | SR-115                                                     | 0115P                                                      |   7.072                                                    |   8.247                                                    | Rt turns on 6800 South - SR 156                            | 3                                                          |  2836.667                                                  | Urban Collector                                            |  17                                                        |  4.843305                                                  | 3                                                          | 23 USC 409                                                 | State                                                      | \n",
       "| 4                                                          | 5                                                          | SR-13                                                      | 0013P                                                      |   1.343                                                    |   2.872                                                    | SR 90 (200 S) via SR 13 (Main St) - Forest St Brigham City | 1                                                          | 13583.588                                                  | Urban Principal Arterial                                   |  84                                                        | 18.421053                                                  | 4                                                          | 23 USC 409                                                 | State                                                      | \n",
       "| 5                                                          | 6                                                          | I-80                                                       | 0080N                                                      | 111.190                                                    | 113.276                                                    | SR 202 Saltair Drive (Garfield Cutoff)                     | 2                                                          | 22017.678                                                  | Urban Interstate                                           |  68                                                        | 10.897436                                                  | 3                                                          | 23 USC 409                                                 | State                                                      | \n",
       "\n",
       "\n"
      ],
      "text/plain": [
       "  FID OBJECTID RouteNm LABEL BEG_MP  END_MP \n",
       "1 0   1        I-15    0015N  88.353  94.453\n",
       "2 1   2        I-215   0215P   7.697   9.216\n",
       "3 2   3        SR-151  0151P   0.000   1.004\n",
       "4 3   4        SR-115  0115P   7.072   8.247\n",
       "5 4   5        SR-13   0013P   1.343   2.872\n",
       "6 5   6        I-80    0080N 111.190 113.276\n",
       "  DESCRIP                                                    REGION AVG_AADT \n",
       "1 SR 271 Paragonah                                           4      16786.667\n",
       "2 SR 152 2000 East (Highland Drive)                          2      86801.667\n",
       "3 Bangerter Highway via 10400 South                          2      19135.000\n",
       "4 Rt turns on 6800 South - SR 156                            3       2836.667\n",
       "5 SR 90 (200 S) via SR 13 (Main St) - Forest St Brigham City 1      13583.588\n",
       "6 SR 202 Saltair Drive (Garfield Cutoff)                     2      22017.678\n",
       "  FC_NAME                  TOT_C C_MI      C_SCORE PROTECTED  State_FA\n",
       "1 Rural Interstate          35    1.915709 2       23 USC 409 State   \n",
       "2 Urban Interstate         101   22.295806 4       23 USC 409 State   \n",
       "3 Urban Principal Arterial  63   21.000000 4       23 USC 409 State   \n",
       "4 Urban Collector           17    4.843305 3       23 USC 409 State   \n",
       "5 Urban Principal Arterial  84   18.421053 4       23 USC 409 State   \n",
       "6 Urban Interstate          68   10.897436 3       23 USC 409 State   "
      ]
     },
     "metadata": {},
     "output_type": "display_data"
    }
   ],
   "source": [
    "crashes_df <- arc.select(crashes_arc)\n",
    "head(crashes_df)"
   ]
  },
  {
   "cell_type": "markdown",
   "metadata": {},
   "source": [
    "The first argument of the `arc.select()` function is the resulting object from the `arc.open()` function. To simplify the above example, we could type the following instead:\n",
    "\n",
    "```R\n",
    "crashes_df <- arc.select(arc.open(\"data/crashes_per_mile.shp\"))\n",
    "```\n",
    "\n",
    "This is a more efficient call since we are not wasting memory on the object from `arc.open()` which we will not use outside of being an argument to `arc.select()`. \n",
    "\n",
    "However, in the above example, we are not diving into what makes the **arcgisbinding** package so powerful. For starters, we are using a shapefile and we are also not opting to make any manipulations. Let's take a look at some of the more advanced functionality of `arc.select()` in detail:\n",
    "\n",
    "##### Column Selections\n",
    "\n",
    "The second argument to the `arc.open()` function is a parameter called `fields`. This parameter allows us to specify the specific columns from our ArcGIS data set that we wish to bring in, if we do not need all of them for our R work. To use the `fields` parameter, you will construct a vector of strings pertaining to the specific column names you wish to bring in. These column names must match those in your ArcGIS data set exactly in terms of spelling and capitalization. As an example, above, we saw the first six rows of the `crashes_per_mile` shapefile along with the column names. Say we were only interested in the columns pertaining to object id, route number, beginning milepost, ending milepost, and region. To bring in only these columns, we would construct the following `arc.select()` function call:\n",
    "\n",
    "```R\n",
    "crashes_subset_df <- arc.select(arc.open(\"data/crashes_per_mile.shp\"), c(\"OBJECTID\", \"RouteNm\", \"BEG_MP\", \"END_MP\", \"REGION\"))\n",
    "```\n",
    "We can see how this works in R below:"
   ]
  },
  {
   "cell_type": "code",
   "execution_count": 28,
   "metadata": {},
   "outputs": [
    {
     "data": {
      "text/html": [
       "<table>\n",
       "<thead><tr><th scope=col>OBJECTID</th><th scope=col>RouteNm</th><th scope=col>BEG_MP</th><th scope=col>END_MP</th><th scope=col>REGION</th></tr></thead>\n",
       "<tbody>\n",
       "\t<tr><td>1      </td><td>I-15   </td><td> 88.353</td><td> 94.453</td><td>4      </td></tr>\n",
       "\t<tr><td>2      </td><td>I-215  </td><td>  7.697</td><td>  9.216</td><td>2      </td></tr>\n",
       "\t<tr><td>3      </td><td>SR-151 </td><td>  0.000</td><td>  1.004</td><td>2      </td></tr>\n",
       "\t<tr><td>4      </td><td>SR-115 </td><td>  7.072</td><td>  8.247</td><td>3      </td></tr>\n",
       "\t<tr><td>5      </td><td>SR-13  </td><td>  1.343</td><td>  2.872</td><td>1      </td></tr>\n",
       "\t<tr><td>6      </td><td>I-80   </td><td>111.190</td><td>113.276</td><td>2      </td></tr>\n",
       "</tbody>\n",
       "</table>\n"
      ],
      "text/latex": [
       "\\begin{tabular}{r|lllll}\n",
       " OBJECTID & RouteNm & BEG\\_MP & END\\_MP & REGION\\\\\n",
       "\\hline\n",
       "\t 1       & I-15    &  88.353 &  94.453 & 4      \\\\\n",
       "\t 2       & I-215   &   7.697 &   9.216 & 2      \\\\\n",
       "\t 3       & SR-151  &   0.000 &   1.004 & 2      \\\\\n",
       "\t 4       & SR-115  &   7.072 &   8.247 & 3      \\\\\n",
       "\t 5       & SR-13   &   1.343 &   2.872 & 1      \\\\\n",
       "\t 6       & I-80    & 111.190 & 113.276 & 2      \\\\\n",
       "\\end{tabular}\n"
      ],
      "text/markdown": [
       "\n",
       "OBJECTID | RouteNm | BEG_MP | END_MP | REGION | \n",
       "|---|---|---|---|---|---|\n",
       "| 1       | I-15    |  88.353 |  94.453 | 4       | \n",
       "| 2       | I-215   |   7.697 |   9.216 | 2       | \n",
       "| 3       | SR-151  |   0.000 |   1.004 | 2       | \n",
       "| 4       | SR-115  |   7.072 |   8.247 | 3       | \n",
       "| 5       | SR-13   |   1.343 |   2.872 | 1       | \n",
       "| 6       | I-80    | 111.190 | 113.276 | 2       | \n",
       "\n",
       "\n"
      ],
      "text/plain": [
       "  OBJECTID RouteNm BEG_MP  END_MP  REGION\n",
       "1 1        I-15     88.353  94.453 4     \n",
       "2 2        I-215     7.697   9.216 2     \n",
       "3 3        SR-151    0.000   1.004 2     \n",
       "4 4        SR-115    7.072   8.247 3     \n",
       "5 5        SR-13     1.343   2.872 1     \n",
       "6 6        I-80    111.190 113.276 2     "
      ]
     },
     "metadata": {},
     "output_type": "display_data"
    }
   ],
   "source": [
    "crashes_subset_df <- arc.select(arc.open(\"data/crashes_per_mile.shp\"), c(\"OBJECTID\", \"RouteNm\", \"BEG_MP\", \"END_MP\", \"REGION\"))\n",
    "head(crashes_subset_df)"
   ]
  },
  {
   "cell_type": "markdown",
   "metadata": {},
   "source": [
    "##### Data Subsets With SQL Queries\n",
    "\n",
    "The third argument of the `arc.select()` function allows us to specify an SQL query if we wish to make a subset of our data based on a certain attribute value. This parameter is called the `where_clause` and it can be used by putting the column name that contains the attribute you wish to subset off of along with the expression desired and the attribute value, all in quotes. For example, if we wish to examine the subset of crashes that occurred on Route 1-80, we could craft the following `arc.select()` function call:\n",
    "\n",
    "```R\n",
    "crashes_subset_df <- arc.select(arc.open(\"data/crashes_per_mile.shp\"), c(\"OBJECTID\", \"RouteNm\", \"BEG_MP\", \"END_MP\", \"REGION\"), \"RouteNm = 'I-80'\")\n",
    "```\n",
    "Or, if we wished to examine the subset of crashes that occurred between regions 2 and 4 (inclusively), we could do so with the following call:\n",
    "\n",
    "```R\n",
    "crashes_subset_df <- arc.select(arc.open(\"data/crashes_per_mile.shp\"), c(\"OBJECTID\", \"RouteNm\", \"BEG_MP\", \"END_MP\", \"REGION\"), \"REGION >= 2 AND REGION <= 4\")\n",
    "```\n",
    "\n",
    "Let's try this out in R:"
   ]
  },
  {
   "cell_type": "code",
   "execution_count": 5,
   "metadata": {},
   "outputs": [
    {
     "data": {
      "text/html": [
       "<table>\n",
       "<thead><tr><th scope=col>OBJECTID</th><th scope=col>RouteNm</th><th scope=col>BEG_MP</th><th scope=col>END_MP</th><th scope=col>REGION</th></tr></thead>\n",
       "<tbody>\n",
       "\t<tr><td>1      </td><td>I-15   </td><td> 88.353</td><td> 94.453</td><td>4      </td></tr>\n",
       "\t<tr><td>2      </td><td>I-215  </td><td>  7.697</td><td>  9.216</td><td>2      </td></tr>\n",
       "\t<tr><td>3      </td><td>SR-151 </td><td>  0.000</td><td>  1.004</td><td>2      </td></tr>\n",
       "\t<tr><td>4      </td><td>SR-115 </td><td>  7.072</td><td>  8.247</td><td>3      </td></tr>\n",
       "\t<tr><td>6      </td><td>I-80   </td><td>111.190</td><td>113.276</td><td>2      </td></tr>\n",
       "\t<tr><td>7      </td><td>I-15   </td><td>297.920</td><td>298.916</td><td>2      </td></tr>\n",
       "</tbody>\n",
       "</table>\n"
      ],
      "text/latex": [
       "\\begin{tabular}{r|lllll}\n",
       " OBJECTID & RouteNm & BEG\\_MP & END\\_MP & REGION\\\\\n",
       "\\hline\n",
       "\t 1       & I-15    &  88.353 &  94.453 & 4      \\\\\n",
       "\t 2       & I-215   &   7.697 &   9.216 & 2      \\\\\n",
       "\t 3       & SR-151  &   0.000 &   1.004 & 2      \\\\\n",
       "\t 4       & SR-115  &   7.072 &   8.247 & 3      \\\\\n",
       "\t 6       & I-80    & 111.190 & 113.276 & 2      \\\\\n",
       "\t 7       & I-15    & 297.920 & 298.916 & 2      \\\\\n",
       "\\end{tabular}\n"
      ],
      "text/markdown": [
       "\n",
       "OBJECTID | RouteNm | BEG_MP | END_MP | REGION | \n",
       "|---|---|---|---|---|---|\n",
       "| 1       | I-15    |  88.353 |  94.453 | 4       | \n",
       "| 2       | I-215   |   7.697 |   9.216 | 2       | \n",
       "| 3       | SR-151  |   0.000 |   1.004 | 2       | \n",
       "| 4       | SR-115  |   7.072 |   8.247 | 3       | \n",
       "| 6       | I-80    | 111.190 | 113.276 | 2       | \n",
       "| 7       | I-15    | 297.920 | 298.916 | 2       | \n",
       "\n",
       "\n"
      ],
      "text/plain": [
       "  OBJECTID RouteNm BEG_MP  END_MP  REGION\n",
       "1 1        I-15     88.353  94.453 4     \n",
       "2 2        I-215     7.697   9.216 2     \n",
       "3 3        SR-151    0.000   1.004 2     \n",
       "4 4        SR-115    7.072   8.247 3     \n",
       "5 6        I-80    111.190 113.276 2     \n",
       "6 7        I-15    297.920 298.916 2     "
      ]
     },
     "metadata": {},
     "output_type": "display_data"
    }
   ],
   "source": [
    "crashes_subset2_df <- arc.select(arc.open(\"data/crashes_per_mile.shp\"), c(\"OBJECTID\", \"RouteNm\", \"BEG_MP\", \"END_MP\", \"REGION\"), \"REGION >= 2 AND REGION <= 4\")\n",
    "head(crashes_subset2_df)"
   ]
  },
  {
   "cell_type": "markdown",
   "metadata": {},
   "source": [
    "##### Reprojecting\n",
    "\n",
    "The fourth argument of the `arc.select` function allows us to reproject our data by using the `sr` parameter and specifying either the ESPG reference number or the WKT or proj4 associcated with the ESPG reference number for the desired projection. Our `crashes_per_mile` shapefile is currently projected in the [UTM Zone 12N](http://spatialreference.org/ref/epsg/nad83-utm-zone-12n/). However, for the sake of demonstration only, say we wished to reproject into [NAD27 Utah Central](http://spatialreference.org/ref/epsg/32043/). We could do so in one of the following ways:\n",
    "\n",
    "ESPG reference number\n",
    "\n",
    "```R\n",
    "crashes_subset3_df <- arc.select(arc.open(\"data/crashes_per_mile.shp\"), c(\"OBJECTID\", \"RouteNm\", \"BEG_MP\", \"END_MP\", \"REGION\"), \"REGION >= 2 AND REGION <= 4\", sr = 32043)\n",
    "```\n",
    "\n",
    "Esri WKT\n",
    "\n",
    "```R\n",
    "crashes_subset3_df <- arc.select(arc.open(\"data/crashes_per_mile.shp\"), c(\"OBJECTID\", \"RouteNm\", \"BEG_MP\", \"END_MP\", \"REGION\"), \"REGION >= 2 AND REGION <= 4\", sr = 'PROJCS[\"NAD27 / Utah Central\",GEOGCS[\"GCS_North_American_1927\",DATUM[\"D_North_American_1927\",SPHEROID[\"Clarke_1866\",6378206.4,294.9786982138982]],PRIMEM[\"Greenwich\",0],UNIT[\"Degree\",0.017453292519943295]],PROJECTION[\"Lambert_Conformal_Conic\"],PARAMETER[\"standard_parallel_1\",39.01666666666667],PARAMETER[\"standard_parallel_2\",40.65],PARAMETER[\"latitude_of_origin\",38.33333333333334],PARAMETER[\"central_meridian\",-111.5],PARAMETER[\"false_easting\",2000000],PARAMETER[\"false_northing\",0],UNIT[\"Foot_US\",0.30480060960121924]]')\n",
    "```\n",
    "\n",
    "proj4 string\n",
    "\n",
    "```R\n",
    "crashes_subset3_df <- arc.select(arc.open(\"data/crashes_per_mile.shp\"), c(\"OBJECTID\", \"RouteNm\", \"BEG_MP\", \"END_MP\", \"REGION\"), \"REGION >= 2 AND REGION <= 4\", sr = '+proj=lcc +lat_1=39.01666666666667 +lat_2=40.65 +lat_0=38.33333333333334 +lon_0=-111.5 +x_0=609601.2192024384 +y_0=0 +ellps=clrk66 +datum=NAD27 +to_meter=0.3048006096012192 +no_defs')\n",
    "\n",
    "```\n",
    "\n",
    "We can test all of these out in the R console:"
   ]
  },
  {
   "cell_type": "code",
   "execution_count": 6,
   "metadata": {},
   "outputs": [
    {
     "data": {
      "text/plain": [
       "geometry type   : Polyline\n",
       "WKT             : PROJCS[\"NAD_1983_UTM_Zone_12N\",GEOGCS[\"GCS_North_American_19...\n",
       "WKID            : 26912\n",
       "length          : 2820 "
      ]
     },
     "metadata": {},
     "output_type": "display_data"
    },
    {
     "data": {
      "text/plain": [
       "geometry type   : Polyline\n",
       "WKT             : PROJCS[\"NAD_1927_StatePlane_Utah_Central_FIPS_4302\",GEOGCS[\"...\n",
       "WKID            : 32043\n",
       "length          : 2820 "
      ]
     },
     "metadata": {},
     "output_type": "display_data"
    },
    {
     "data": {
      "text/plain": [
       "geometry type   : Polyline\n",
       "WKT             : PROJCS[\"NAD27 / Utah Central\",GEOGCS[\"GCS_North_American_192...\n",
       "length          : 2820 "
      ]
     },
     "metadata": {},
     "output_type": "display_data"
    },
    {
     "data": {
      "text/plain": [
       "geometry type   : Polyline\n",
       "WKT             : PROJCS[\"Lambert_Conformal_Conic_2SP\",GEOGCS[\"GCS_North_Ameri...\n",
       "length          : 2820 "
      ]
     },
     "metadata": {},
     "output_type": "display_data"
    }
   ],
   "source": [
    "#Original data\n",
    "crashes_subset3_df <- arc.select(arc.open(\"data/crashes_per_mile.shp\"), c(\"OBJECTID\", \"RouteNm\", \"BEG_MP\", \"END_MP\", \"REGION\"), \"REGION >= 2 AND REGION <= 4\")\n",
    "arc.shape(crashes_subset3_df)\n",
    "\n",
    "#ESPG reference number\n",
    "crashes_subset3_df <- arc.select(arc.open(\"data/crashes_per_mile.shp\"), c(\"OBJECTID\", \"RouteNm\", \"BEG_MP\", \"END_MP\", \"REGION\"), \"REGION >= 2 AND REGION <= 4\", sr = 32043)\n",
    "arc.shape(crashes_subset3_df)\n",
    "\n",
    "#WKT\n",
    "crashes_subset3_df <- arc.select(arc.open(\"data/crashes_per_mile.shp\"), c(\"OBJECTID\", \"RouteNm\", \"BEG_MP\", \"END_MP\", \"REGION\"), \"REGION >= 2 AND REGION <= 4\", sr = 'PROJCS[\"NAD27 / Utah Central\",GEOGCS[\"GCS_North_American_1927\",DATUM[\"D_North_American_1927\",SPHEROID[\"Clarke_1866\",6378206.4,294.9786982138982]],PRIMEM[\"Greenwich\",0],UNIT[\"Degree\",0.017453292519943295]],PROJECTION[\"Lambert_Conformal_Conic\"],PARAMETER[\"standard_parallel_1\",39.01666666666667],PARAMETER[\"standard_parallel_2\",40.65],PARAMETER[\"latitude_of_origin\",38.33333333333334],PARAMETER[\"central_meridian\",-111.5],PARAMETER[\"false_easting\",2000000],PARAMETER[\"false_northing\",0],UNIT[\"Foot_US\",0.30480060960121924]]')\n",
    "arc.shape(crashes_subset3_df)\n",
    "\n",
    "#proj4\n",
    "crashes_subset3_df <- arc.select(arc.open(\"data/crashes_per_mile.shp\"), c(\"OBJECTID\", \"RouteNm\", \"BEG_MP\", \"END_MP\", \"REGION\"), \"REGION >= 2 AND REGION <= 4\", sr = '+proj=lcc +lat_1=39.01666666666667 +lat_2=40.65 +lat_0=38.33333333333334 +lon_0=-111.5 +x_0=609601.2192024384 +y_0=0 +ellps=clrk66 +datum=NAD27 +to_meter=0.3048006096012192 +no_defs')\n",
    "arc.shape(crashes_subset3_df)"
   ]
  },
  {
   "cell_type": "markdown",
   "metadata": {},
   "source": [
    "In addition to `arc.select()` functionality which converts your ArcGIS data to an R data frame object, the bridge also offers functions to convert your data from an R data frame object to a corresponding spatial data frame object from the R package **sp** or R package **sf**. These functions are useful if you plan to perform some type of spatial analysis in R and need your data in an R recognized spatial object. \n",
    "\n",
    "#### arc.data2sp Functionality\n",
    "\n",
    "To convert from an R data frame to an **sp** spatial data frame, simply run the `arc.data2sp()` function on the resulting data frame from your `arc.select()` function call. The R vignette on the **sp** package can be found [here](https://cran.r-project.org/web/packages/sp/vignettes/intro_sp.pdf). \n",
    "\n",
    "```R\n",
    "crashes_subset2_spdf <- arc.data2sp(crashes_subset2_df)\n",
    "\n",
    "```\n",
    "\n",
    "#### arc.data2sf Functionality\n",
    "\n",
    "To convert from an R data frame to an **sf** spatial object, simply run the `arc.data2sf()` function on the resulting data frame from your `arc.select()` function call. The R vignette on the **sf** package can be found [here](https://cran.r-project.org/web/packages/sf/vignettes/sf1.html). \n",
    "\n",
    "```R\n",
    "crashes_subset2_sfdf <- arc.data2sf(crashes_subset2_df)\n",
    "```\n",
    "\n",
    "Test out how these functions work in the R console below:"
   ]
  },
  {
   "cell_type": "code",
   "execution_count": 7,
   "metadata": {},
   "outputs": [
    {
     "data": {
      "text/html": [
       "<ol class=list-inline>\n",
       "\t<li>'arc.data'</li>\n",
       "\t<li>'data.frame'</li>\n",
       "</ol>\n"
      ],
      "text/latex": [
       "\\begin{enumerate*}\n",
       "\\item 'arc.data'\n",
       "\\item 'data.frame'\n",
       "\\end{enumerate*}\n"
      ],
      "text/markdown": [
       "1. 'arc.data'\n",
       "2. 'data.frame'\n",
       "\n",
       "\n"
      ],
      "text/plain": [
       "[1] \"arc.data\"   \"data.frame\""
      ]
     },
     "metadata": {},
     "output_type": "display_data"
    },
    {
     "data": {
      "text/html": [
       "'SpatialLinesDataFrame'"
      ],
      "text/latex": [
       "'SpatialLinesDataFrame'"
      ],
      "text/markdown": [
       "'SpatialLinesDataFrame'"
      ],
      "text/plain": [
       "[1] \"SpatialLinesDataFrame\"\n",
       "attr(,\"package\")\n",
       "[1] \"sp\""
      ]
     },
     "metadata": {},
     "output_type": "display_data"
    },
    {
     "data": {
      "text/html": [
       "<ol class=list-inline>\n",
       "\t<li>'sf'</li>\n",
       "\t<li>'data.frame'</li>\n",
       "</ol>\n"
      ],
      "text/latex": [
       "\\begin{enumerate*}\n",
       "\\item 'sf'\n",
       "\\item 'data.frame'\n",
       "\\end{enumerate*}\n"
      ],
      "text/markdown": [
       "1. 'sf'\n",
       "2. 'data.frame'\n",
       "\n",
       "\n"
      ],
      "text/plain": [
       "[1] \"sf\"         \"data.frame\""
      ]
     },
     "metadata": {},
     "output_type": "display_data"
    }
   ],
   "source": [
    "class(crashes_subset2_df)\n",
    "\n",
    "crashes_subset2_spdf <- arc.data2sp(crashes_subset2_df)\n",
    "class(crashes_subset2_spdf)\n",
    "\n",
    "crashes_subset2_sfdf <- arc.data2sf(crashes_subset2_df)\n",
    "class(crashes_subset2_sfdf)"
   ]
  },
  {
   "cell_type": "markdown",
   "metadata": {},
   "source": [
    "### Raster Data\n",
    "\n",
    "The R-ArcGIS bridge recently expanded its capabilities to include working with raster data. This means that the **arcgisbinding** package has been updated to include some new functions specific for manipulating and converting ArcGIS raster layers into R recognized raster objects (from the R package **raster**). If you have an older version of the bridge, you will need to update your **arcgisbinding** package in order to access this functionality. For information on how to do so, see the section on upgrading the **arcgisbinding** package in the Jupyter Notebook R-bridge-install-and-setup. \n",
    "\n",
    "#### arc.raster Functionality\n",
    "\n",
    "While the `arc.open()` function works with all ArcGIS data types, whether vector or raster, to establish a connection to your desired ArcGIS data, the **arcgisbinding** package has seperate functions for converting and manipulating data depending on the type of data you wish to bring into R. The `arc.raster()` function is what is used for converting and manipulating a raster layer contained within any type of ArcGIS supported format before finishing the conversion process into R using the `as.raster()` function. \n",
    "\n",
    "To begin, let's start with the simplest use case. We simply wish to convert an ArcGIS raster layer into an R recognized raster object. In this case, after using the `arc.open()` function to establish a connection with our desired data, we can use the `arc.raster()` function on the result generated from `arc.open()`, followed by the `as.raster()` function, to convert our data into an R raster object. If we are working with a single band, the result will be a _RasterLayer_ object from the R package **raster**. If we are working with multiple bands, the results will be a _RasterBrick_ object from the R package **raster**. Let's take our `World_Distance_to_Waster_Stud_SM` file geodatabase raster as an example:\n",
    "\n",
    "```R\n",
    "distance_to_water_ras <- as.raster(arc.raster(arc.open(\"data/data.gdb/World_Distance_to_Water_Stud_SM\")))\n",
    "```\n",
    "\n",
    "Our `World_Distance_to_Waster_Stud_SM` file geodatabase raster is now in R as a _RasterLayer_ and any R function that takes a **raster** package object as part of its arguments can now be used on it. To check this, we can run the following line in R and check the class of the resulting object. \n"
   ]
  },
  {
   "cell_type": "code",
   "execution_count": 12,
   "metadata": {},
   "outputs": [
    {
     "data": {
      "text/html": [
       "'RasterLayer'"
      ],
      "text/latex": [
       "'RasterLayer'"
      ],
      "text/markdown": [
       "'RasterLayer'"
      ],
      "text/plain": [
       "[1] \"RasterLayer\"\n",
       "attr(,\"package\")\n",
       "[1] \"raster\""
      ]
     },
     "metadata": {},
     "output_type": "display_data"
    }
   ],
   "source": [
    "distance_to_water_ras <- as.raster(arc.raster(arc.open(\"data/data.gdb/World_Distance_to_Water_Stud_SM\")))\n",
    "class(distance_to_water_ras)"
   ]
  },
  {
   "cell_type": "markdown",
   "metadata": {},
   "source": [
    "In addition to this simplest use case shown above, the `arc.raster()` function also offers advanced manipulations for raster layers. Next, we will cover some of the additional options that exist. \n",
    "\n",
    "> Note: The parameter options covered here are only some of the options that exist within the `arc.raster()` function. For full options and details, please refer to the documentation on this function. "
   ]
  },
  {
   "cell_type": "code",
   "execution_count": null,
   "metadata": {},
   "outputs": [],
   "source": [
    "?arc.raster()"
   ]
  },
  {
   "cell_type": "markdown",
   "metadata": {},
   "source": [
    "##### Spatial Resolution \n",
    "\n",
    "If you wish to adjust your raster's spatial resolution, you can define your desired cell size by using the `nrow` and `ncol` parameters of the `arc.raster()` function. For example, if your original raster is 500 rows by 500 columns, if you define 'nrow = 100' and 'ncol = 100', the bridge will automatically adjust your raster's spatial resolution, resulting in larger pixels to display your original raster with now only 100 rows by 100 columns. This can be useful if you wish to test out R functionality on a courser version of your raster first, before bringing in the original raster layer into R. \n",
    "\n",
    "To use, simply specify the number of rows and columns you wish to have and your raster’s pixel size will be adjusted automatically. \n",
    "\n",
    "```R\n",
    "distance_to_water_ras_sr <- as.raster(arc.raster(arc.open(\"data/data.gdb/World_Distance_to_Water_Stud_SM\"), nrow = 100, ncol = 100))\n",
    "```"
   ]
  },
  {
   "cell_type": "code",
   "execution_count": 8,
   "metadata": {},
   "outputs": [
    {
     "data": {
      "text/html": [
       "<ol class=list-inline>\n",
       "\t<li>121</li>\n",
       "\t<li>250</li>\n",
       "\t<li>1</li>\n",
       "</ol>\n"
      ],
      "text/latex": [
       "\\begin{enumerate*}\n",
       "\\item 121\n",
       "\\item 250\n",
       "\\item 1\n",
       "\\end{enumerate*}\n"
      ],
      "text/markdown": [
       "1. 121\n",
       "2. 250\n",
       "3. 1\n",
       "\n",
       "\n"
      ],
      "text/plain": [
       "[1] 121 250   1"
      ]
     },
     "metadata": {},
     "output_type": "display_data"
    },
    {
     "data": {
      "image/png": "[encoded data removed]",
      "text/plain": [
       "plot without title"
      ]
     },
     "metadata": {},
     "output_type": "display_data"
    },
    {
     "data": {
      "image/png": "[encoded data removed]",
      "text/plain": [
       "Plot with title \"\""
      ]
     },
     "metadata": {},
     "output_type": "display_data"
    }
   ],
   "source": [
    "#Original raster\n",
    "distance_to_water_ras <- as.raster(arc.raster(arc.open(\"data/data.gdb/World_Distance_to_Water_Stud_SM\")))\n",
    "dim(distance_to_water_ras)\n",
    "raster::plot(distance_to_water_ras)"
   ]
  },
  {
   "cell_type": "code",
   "execution_count": 7,
   "metadata": {},
   "outputs": [
    {
     "data": {
      "text/html": [
       "<ol class=list-inline>\n",
       "\t<li>50</li>\n",
       "\t<li>50</li>\n",
       "\t<li>1</li>\n",
       "</ol>\n"
      ],
      "text/latex": [
       "\\begin{enumerate*}\n",
       "\\item 50\n",
       "\\item 50\n",
       "\\item 1\n",
       "\\end{enumerate*}\n"
      ],
      "text/markdown": [
       "1. 50\n",
       "2. 50\n",
       "3. 1\n",
       "\n",
       "\n"
      ],
      "text/plain": [
       "[1] 50 50  1"
      ]
     },
     "metadata": {},
     "output_type": "display_data"
    },
    {
     "data": {
      "image/png": "[encoded data removed]",
      "text/plain": [
       "plot without title"
      ]
     },
     "metadata": {},
     "output_type": "display_data"
    },
    {
     "data": {
      "image/png": "[encoded data removed]",
      "text/plain": [
       "Plot with title \"\""
      ]
     },
     "metadata": {},
     "output_type": "display_data"
    }
   ],
   "source": [
    "#New raster with adjusted spatial resolution\n",
    "distance_to_water_ras <- as.raster(arc.raster(arc.open(\"data/data.gdb/World_Distance_to_Water_Stud_SM\"), nrow = 50, ncol = 50))\n",
    "dim(distance_to_water_ras)\n",
    "raster::plot(distance_to_water_ras)"
   ]
  },
  {
   "cell_type": "markdown",
   "metadata": {},
   "source": [
    "##### Extent \n",
    "\n",
    "You can adjust the extent for the raster object you bring into R by using the extent parameter and specifying your desired xmax, ymax, xmin, and ymin values in a numeric vector. Order does matter here, so be mindful as you select your values. If you pick a smaller extent, what will be returned will be a subset of your original raster. \n",
    "\n",
    "In the example below, we are adjusting the extent of our raster to have a xmax value of 32.5, a ymax value of -24.5, a xmin value of 30.5, and a ymin value of -25.\n",
    "\n",
    "```R\n",
    "distance_to_water_ras_extent <- as.raster(arc.raster(arc.open(\"data/data.gdb/World_Distance_to_Water_Stud_SM\"), nrow = 100, ncol = 100, extent = c(32.5, -25, 30.5, -24.5)))\n",
    "\n",
    "```\n",
    "\n",
    "We can test out the results in the R console below. "
   ]
  },
  {
   "cell_type": "code",
   "execution_count": 4,
   "metadata": {},
   "outputs": [
    {
     "data": {
      "text/plain": [
       "class       : Extent \n",
       "xmin        : 30.98066 \n",
       "xmax        : 32.96726 \n",
       "ymin        : -25.46767 \n",
       "ymax        : -24.50616 "
      ]
     },
     "metadata": {},
     "output_type": "display_data"
    },
    {
     "data": {
      "text/plain": [
       "class       : Extent \n",
       "xmin        : 30.5 \n",
       "xmax        : 32.5 \n",
       "ymin        : -25 \n",
       "ymax        : -24.5 "
      ]
     },
     "metadata": {},
     "output_type": "display_data"
    }
   ],
   "source": [
    "#Original extent values\n",
    "distance_to_water_ras <- as.raster(arc.raster(arc.open(\"data/data.gdb/World_Distance_to_Water_Stud_SM\")))\n",
    "distance_to_water_ras@extent                                \n",
    "\n",
    "#Modified extent values\n",
    "distance_to_water_ras_extent <- as.raster(arc.raster(arc.open(\"data/data.gdb/World_Distance_to_Water_Stud_SM\"), extent = c(32.5, -25, 30.5, -24.5)))\n",
    "distance_to_water_ras_extent@extent"
   ]
  },
  {
   "cell_type": "markdown",
   "metadata": {},
   "source": [
    "##### Reprojecting\n",
    "\n",
    "Similarly to the `arc.select()` function, we can reproject our data by using the `sr` parameter and specifying either the ESPG reference number, the WKT, or proj4 associcated with the ESPG reference number for the desired projection. Our `World_Distance_to_Waster_Stud_SM` file geodatabase raster is currently not projected. If we wished to add a projection, we could do so in the following way:\n",
    "\n",
    "ESPG reference number\n",
    "\n",
    "```R\n",
    "distance_to_water_ras <- arc.raster(arc.open(\"data/data.gdb/World_Distance_to_Water_Stud_SM\"), nrow = 100, ncol = 100, sr = 102003)\n",
    "```\n",
    "By checking the value of the `sr` attribute value, we can see our spatial reference has now changed."
   ]
  },
  {
   "cell_type": "code",
   "execution_count": 9,
   "metadata": {},
   "outputs": [
    {
     "data": {
      "text/html": [
       "<dl>\n",
       "\t<dt>$WKT</dt>\n",
       "\t\t<dd>'GEOGCS[\"WGS 84\",DATUM[\"World Geodetic System 1984\",SPHEROID[\"WGS 84\",6378137.0,298.257223563]],PRIMEM[\"Greenwich\",0.0],UNIT[\"degree\",0.0174532925199433]]'</dd>\n",
       "\t<dt>$WKID</dt>\n",
       "\t\t<dd>0</dd>\n",
       "</dl>\n"
      ],
      "text/latex": [
       "\\begin{description}\n",
       "\\item[\\$WKT] 'GEOGCS{[}\"WGS 84\",DATUM{[}\"World Geodetic System 1984\",SPHEROID{[}\"WGS 84\",6378137.0,298.257223563{]}{]},PRIMEM{[}\"Greenwich\",0.0{]},UNIT{[}\"degree\",0.0174532925199433{]}{]}'\n",
       "\\item[\\$WKID] 0\n",
       "\\end{description}\n"
      ],
      "text/markdown": [
       "$WKT\n",
       ":   'GEOGCS[\"WGS 84\",DATUM[\"World Geodetic System 1984\",SPHEROID[\"WGS 84\",6378137.0,298.257223563]],PRIMEM[\"Greenwich\",0.0],UNIT[\"degree\",0.0174532925199433]]'\n",
       "$WKID\n",
       ":   0\n",
       "\n",
       "\n"
      ],
      "text/plain": [
       "$WKT\n",
       "[1] \"GEOGCS[\\\"WGS 84\\\",DATUM[\\\"World Geodetic System 1984\\\",SPHEROID[\\\"WGS 84\\\",6378137.0,298.257223563]],PRIMEM[\\\"Greenwich\\\",0.0],UNIT[\\\"degree\\\",0.0174532925199433]]\"\n",
       "\n",
       "$WKID\n",
       "[1] 0\n"
      ]
     },
     "metadata": {},
     "output_type": "display_data"
    },
    {
     "data": {
      "text/html": [
       "<dl>\n",
       "\t<dt>$WKT</dt>\n",
       "\t\t<dd>'PROJCS[\"USA_Contiguous_Albers_Equal_Area_Conic\",GEOGCS[\"GCS_North_American_1983\",DATUM[\"D_North_American_1983\",SPHEROID[\"GRS_1980\",6378137.0,298.257222101]],PRIMEM[\"Greenwich\",0.0],UNIT[\"Degree\",0.0174532925199433]],PROJECTION[\"Albers\"],PARAMETER[\"False_Easting\",0.0],PARAMETER[\"False_Northing\",0.0],PARAMETER[\"Central_Meridian\",-96.0],PARAMETER[\"Standard_Parallel_1\",29.5],PARAMETER[\"Standard_Parallel_2\",45.5],PARAMETER[\"Latitude_Of_Origin\",37.5],UNIT[\"Meter\",1.0]]'</dd>\n",
       "\t<dt>$WKID</dt>\n",
       "\t\t<dd>102003</dd>\n",
       "</dl>\n"
      ],
      "text/latex": [
       "\\begin{description}\n",
       "\\item[\\$WKT] 'PROJCS{[}\"USA\\_Contiguous\\_Albers\\_Equal\\_Area\\_Conic\",GEOGCS{[}\"GCS\\_North\\_American\\_1983\",DATUM{[}\"D\\_North\\_American\\_1983\",SPHEROID{[}\"GRS\\_1980\",6378137.0,298.257222101{]}{]},PRIMEM{[}\"Greenwich\",0.0{]},UNIT{[}\"Degree\",0.0174532925199433{]}{]},PROJECTION{[}\"Albers\"{]},PARAMETER{[}\"False\\_Easting\",0.0{]},PARAMETER{[}\"False\\_Northing\",0.0{]},PARAMETER{[}\"Central\\_Meridian\",-96.0{]},PARAMETER{[}\"Standard\\_Parallel\\_1\",29.5{]},PARAMETER{[}\"Standard\\_Parallel\\_2\",45.5{]},PARAMETER{[}\"Latitude\\_Of\\_Origin\",37.5{]},UNIT{[}\"Meter\",1.0{]}{]}'\n",
       "\\item[\\$WKID] 102003\n",
       "\\end{description}\n"
      ],
      "text/markdown": [
       "$WKT\n",
       ":   'PROJCS[\"USA_Contiguous_Albers_Equal_Area_Conic\",GEOGCS[\"GCS_North_American_1983\",DATUM[\"D_North_American_1983\",SPHEROID[\"GRS_1980\",6378137.0,298.257222101]],PRIMEM[\"Greenwich\",0.0],UNIT[\"Degree\",0.0174532925199433]],PROJECTION[\"Albers\"],PARAMETER[\"False_Easting\",0.0],PARAMETER[\"False_Northing\",0.0],PARAMETER[\"Central_Meridian\",-96.0],PARAMETER[\"Standard_Parallel_1\",29.5],PARAMETER[\"Standard_Parallel_2\",45.5],PARAMETER[\"Latitude_Of_Origin\",37.5],UNIT[\"Meter\",1.0]]'\n",
       "$WKID\n",
       ":   102003\n",
       "\n",
       "\n"
      ],
      "text/plain": [
       "$WKT\n",
       "[1] \"PROJCS[\\\"USA_Contiguous_Albers_Equal_Area_Conic\\\",GEOGCS[\\\"GCS_North_American_1983\\\",DATUM[\\\"D_North_American_1983\\\",SPHEROID[\\\"GRS_1980\\\",6378137.0,298.257222101]],PRIMEM[\\\"Greenwich\\\",0.0],UNIT[\\\"Degree\\\",0.0174532925199433]],PROJECTION[\\\"Albers\\\"],PARAMETER[\\\"False_Easting\\\",0.0],PARAMETER[\\\"False_Northing\\\",0.0],PARAMETER[\\\"Central_Meridian\\\",-96.0],PARAMETER[\\\"Standard_Parallel_1\\\",29.5],PARAMETER[\\\"Standard_Parallel_2\\\",45.5],PARAMETER[\\\"Latitude_Of_Origin\\\",37.5],UNIT[\\\"Meter\\\",1.0]]\"\n",
       "\n",
       "$WKID\n",
       "[1] 102003\n"
      ]
     },
     "metadata": {},
     "output_type": "display_data"
    }
   ],
   "source": [
    "#Original Spatial Reference Information\n",
    "distance_to_water_ras <- arc.raster(arc.open(\"data/data.gdb/World_Distance_to_Water_Stud_SM\"), nrow = 100, ncol = 100)\n",
    "distance_to_water_ras$sr\n",
    "\n",
    "#ESPG reference number\n",
    "distance_to_water_ras <- arc.raster(arc.open(\"data/data.gdb/World_Distance_to_Water_Stud_SM\"), nrow = 100, ncol = 100, sr = 102003)\n",
    "distance_to_water_ras$sr\n"
   ]
  },
  {
   "cell_type": "markdown",
   "metadata": {},
   "source": [
    "#### as.raster Functionality\n",
    "\n",
    "We have already seen the `as.raster()` function in some of the examples above, but to formally define it, the `as.raster()` function is from the R package **raster** and is designed to help create raster objects. It is utilized in the **arcgisbinding** package to help finish the conversion process from an ArcGIS raster type to an R **raster** package object. Full documentation on the function can be found [here](https://www.rdocumentation.org/packages/raster/versions/2.6-7/topics/as.raster). "
   ]
  },
  {
   "cell_type": "markdown",
   "metadata": {},
   "source": [
    "## Write: Writing R Data Into ArcGIS\n",
    "\n",
    "When you are finished working in R, it is likely you will wish to transfer your results back into ArcGIS either for future analysis or to map and share the final results. In which case, the `arc.write()` function is here to help. \n",
    "\n",
    "### arc.write Functionality\n",
    "\n",
    "The `arc.write()` function allows you to easily save your data to shapefile, file geodatabase, table, or supported raster data type of your choice. The first argument is the path for the location of the folder or file geodatabase you wish to write your new results to along with the file extension you want. The second argument specifies the R object you are writing to this new location. Additional optional parameters allow you to provide the geometry type and spatial reference for your data, if desired. \n",
    "\n",
    "In the example below, the `crashes_subset_df` object from our section on [Column Selections](#Column-Selections) is being written out to our data folder as a shapefile. This example could also easily be modified to write to a file geodatabase by changing the path to `'data/data.gdb/writing_practice'`, if desired. \n",
    "\n",
    "```R\n",
    "arc.write(\"data/writing_practice.shp\", crashes_subset_df)\n",
    "```\n",
    "\n",
    "The `arc.write` function has also been designed with data generation in mind. For example, the function can be used to create new features in ArcGIS as demonstrated below where the `arc.write` function creates 100 uniformly distributed points in a unit square from a normal distribution.\n",
    "\n",
    "```R\n",
    "arc.write(\"data/new_pts.shp\", data = list('data'=rnorm(100)),\n",
    "          coords = list(x=runif(100,min=0,max=1),y=runif(100,min=0,max=1)),\n",
    "          shape_info = list(type='Point'))\n",
    "\n",
    "```\n",
    "\n",
    "After running `arc.write()` we can observe a new shapefile has been added to our data folder by using the `list.files()` function. "
   ]
  },
  {
   "cell_type": "code",
   "execution_count": 29,
   "metadata": {},
   "outputs": [
    {
     "data": {
      "text/html": [
       "<ol class=list-inline>\n",
       "\t<li>'crashes_per_mile.CPG'</li>\n",
       "\t<li>'crashes_per_mile.dbf'</li>\n",
       "\t<li>'crashes_per_mile.prj'</li>\n",
       "\t<li>'crashes_per_mile.sbn'</li>\n",
       "\t<li>'crashes_per_mile.sbx'</li>\n",
       "\t<li>'crashes_per_mile.shp'</li>\n",
       "\t<li>'crashes_per_mile.shp.MARJEAN.9772.9804.sr.lock'</li>\n",
       "\t<li>'crashes_per_mile.shp.xml'</li>\n",
       "\t<li>'crashes_per_mile.shx'</li>\n",
       "\t<li>'data.gdb'</li>\n",
       "\t<li>'new_pts.cpg'</li>\n",
       "\t<li>'new_pts.dbf'</li>\n",
       "\t<li>'new_pts.shp'</li>\n",
       "\t<li>'new_pts.shx'</li>\n",
       "\t<li>'writing_practice.cpg'</li>\n",
       "\t<li>'writing_practice.dbf'</li>\n",
       "\t<li>'writing_practice.prj'</li>\n",
       "\t<li>'writing_practice.shp'</li>\n",
       "\t<li>'writing_practice.shx'</li>\n",
       "</ol>\n"
      ],
      "text/latex": [
       "\\begin{enumerate*}\n",
       "\\item 'crashes\\_per\\_mile.CPG'\n",
       "\\item 'crashes\\_per\\_mile.dbf'\n",
       "\\item 'crashes\\_per\\_mile.prj'\n",
       "\\item 'crashes\\_per\\_mile.sbn'\n",
       "\\item 'crashes\\_per\\_mile.sbx'\n",
       "\\item 'crashes\\_per\\_mile.shp'\n",
       "\\item 'crashes\\_per\\_mile.shp.MARJEAN.9772.9804.sr.lock'\n",
       "\\item 'crashes\\_per\\_mile.shp.xml'\n",
       "\\item 'crashes\\_per\\_mile.shx'\n",
       "\\item 'data.gdb'\n",
       "\\item 'new\\_pts.cpg'\n",
       "\\item 'new\\_pts.dbf'\n",
       "\\item 'new\\_pts.shp'\n",
       "\\item 'new\\_pts.shx'\n",
       "\\item 'writing\\_practice.cpg'\n",
       "\\item 'writing\\_practice.dbf'\n",
       "\\item 'writing\\_practice.prj'\n",
       "\\item 'writing\\_practice.shp'\n",
       "\\item 'writing\\_practice.shx'\n",
       "\\end{enumerate*}\n"
      ],
      "text/markdown": [
       "1. 'crashes_per_mile.CPG'\n",
       "2. 'crashes_per_mile.dbf'\n",
       "3. 'crashes_per_mile.prj'\n",
       "4. 'crashes_per_mile.sbn'\n",
       "5. 'crashes_per_mile.sbx'\n",
       "6. 'crashes_per_mile.shp'\n",
       "7. 'crashes_per_mile.shp.MARJEAN.9772.9804.sr.lock'\n",
       "8. 'crashes_per_mile.shp.xml'\n",
       "9. 'crashes_per_mile.shx'\n",
       "10. 'data.gdb'\n",
       "11. 'new_pts.cpg'\n",
       "12. 'new_pts.dbf'\n",
       "13. 'new_pts.shp'\n",
       "14. 'new_pts.shx'\n",
       "15. 'writing_practice.cpg'\n",
       "16. 'writing_practice.dbf'\n",
       "17. 'writing_practice.prj'\n",
       "18. 'writing_practice.shp'\n",
       "19. 'writing_practice.shx'\n",
       "\n",
       "\n"
      ],
      "text/plain": [
       " [1] \"crashes_per_mile.CPG\"                          \n",
       " [2] \"crashes_per_mile.dbf\"                          \n",
       " [3] \"crashes_per_mile.prj\"                          \n",
       " [4] \"crashes_per_mile.sbn\"                          \n",
       " [5] \"crashes_per_mile.sbx\"                          \n",
       " [6] \"crashes_per_mile.shp\"                          \n",
       " [7] \"crashes_per_mile.shp.MARJEAN.9772.9804.sr.lock\"\n",
       " [8] \"crashes_per_mile.shp.xml\"                      \n",
       " [9] \"crashes_per_mile.shx\"                          \n",
       "[10] \"data.gdb\"                                      \n",
       "[11] \"new_pts.cpg\"                                   \n",
       "[12] \"new_pts.dbf\"                                   \n",
       "[13] \"new_pts.shp\"                                   \n",
       "[14] \"new_pts.shx\"                                   \n",
       "[15] \"writing_practice.cpg\"                          \n",
       "[16] \"writing_practice.dbf\"                          \n",
       "[17] \"writing_practice.prj\"                          \n",
       "[18] \"writing_practice.shp\"                          \n",
       "[19] \"writing_practice.shx\"                          "
      ]
     },
     "metadata": {},
     "output_type": "display_data"
    }
   ],
   "source": [
    "arc.write(\"data/writing_practice.shp\", crashes_subset_df)\n",
    "list.files(path = \"data\")"
   ]
  },
  {
   "cell_type": "markdown",
   "metadata": {},
   "source": [
    "## Delete: Remove and Replace Data\n",
    "\n",
    "Occassionally, we make mistakes and create something we wish to overwrite. In these cases, you can do this by first removing your unwanted data using `arc.delete()`. \n",
    "\n",
    "### arc.delete Functionality\n",
    "\n",
    "If you have generated output through the `arc.write()` function that you wish to remove, you can use the `arc.delete()` function to either permanently delete the previously created output or to delete the old output prior to recreating it again with 'arc.write'.  \n",
    "\n",
    "In the example above for `arc.write()`, we created the `writing_practice.shp` in our `data` folder. We can remove this file by using the `arc.delete()` function. \n",
    "\n",
    "```R\n",
    "arc.delete(\"data/writing_practice.shp\")\n",
    "\n",
    "```\n",
    "\n",
    "After running `arc.delete()` we can observe our `writing_practice` shapefile has been deleted from our data folder by using the `list.files()` function. "
   ]
  },
  {
   "cell_type": "code",
   "execution_count": 37,
   "metadata": {},
   "outputs": [
    {
     "data": {
      "text/html": [
       "<ol class=list-inline>\n",
       "\t<li>'crashes_per_mile.CPG'</li>\n",
       "\t<li>'crashes_per_mile.dbf'</li>\n",
       "\t<li>'crashes_per_mile.prj'</li>\n",
       "\t<li>'crashes_per_mile.sbn'</li>\n",
       "\t<li>'crashes_per_mile.sbx'</li>\n",
       "\t<li>'crashes_per_mile.shp'</li>\n",
       "\t<li>'crashes_per_mile.shp.xml'</li>\n",
       "\t<li>'crashes_per_mile.shx'</li>\n",
       "\t<li>'data.gdb'</li>\n",
       "\t<li>'new_pts.cpg'</li>\n",
       "\t<li>'new_pts.dbf'</li>\n",
       "\t<li>'new_pts.shp'</li>\n",
       "\t<li>'new_pts.shx'</li>\n",
       "</ol>\n"
      ],
      "text/latex": [
       "\\begin{enumerate*}\n",
       "\\item 'crashes\\_per\\_mile.CPG'\n",
       "\\item 'crashes\\_per\\_mile.dbf'\n",
       "\\item 'crashes\\_per\\_mile.prj'\n",
       "\\item 'crashes\\_per\\_mile.sbn'\n",
       "\\item 'crashes\\_per\\_mile.sbx'\n",
       "\\item 'crashes\\_per\\_mile.shp'\n",
       "\\item 'crashes\\_per\\_mile.shp.xml'\n",
       "\\item 'crashes\\_per\\_mile.shx'\n",
       "\\item 'data.gdb'\n",
       "\\item 'new\\_pts.cpg'\n",
       "\\item 'new\\_pts.dbf'\n",
       "\\item 'new\\_pts.shp'\n",
       "\\item 'new\\_pts.shx'\n",
       "\\end{enumerate*}\n"
      ],
      "text/markdown": [
       "1. 'crashes_per_mile.CPG'\n",
       "2. 'crashes_per_mile.dbf'\n",
       "3. 'crashes_per_mile.prj'\n",
       "4. 'crashes_per_mile.sbn'\n",
       "5. 'crashes_per_mile.sbx'\n",
       "6. 'crashes_per_mile.shp'\n",
       "7. 'crashes_per_mile.shp.xml'\n",
       "8. 'crashes_per_mile.shx'\n",
       "9. 'data.gdb'\n",
       "10. 'new_pts.cpg'\n",
       "11. 'new_pts.dbf'\n",
       "12. 'new_pts.shp'\n",
       "13. 'new_pts.shx'\n",
       "\n",
       "\n"
      ],
      "text/plain": [
       " [1] \"crashes_per_mile.CPG\"     \"crashes_per_mile.dbf\"    \n",
       " [3] \"crashes_per_mile.prj\"     \"crashes_per_mile.sbn\"    \n",
       " [5] \"crashes_per_mile.sbx\"     \"crashes_per_mile.shp\"    \n",
       " [7] \"crashes_per_mile.shp.xml\" \"crashes_per_mile.shx\"    \n",
       " [9] \"data.gdb\"                 \"new_pts.cpg\"             \n",
       "[11] \"new_pts.dbf\"              \"new_pts.shp\"             \n",
       "[13] \"new_pts.shx\"             "
      ]
     },
     "metadata": {},
     "output_type": "display_data"
    }
   ],
   "source": [
    "arc.delete(\"data/writing_practice.shp\")\n",
    "list.files(path = \"data\")"
   ]
  },
  {
   "cell_type": "markdown",
   "metadata": {},
   "source": [
    "## Exercise: Analyze Crime Using Statistics and the R-ArcGIS Bridge\n",
    "\n",
    "To practice your understanding of how to read, convert, and write data using the **arcgisbinding** package, we will be using the learn lesson: [Analyze Crime Using Statistics and the R-ArcGIS Bridge](https://learn.arcgis.com/en/projects/analyze-crime-using-statistics-and-the-r-arcgis-bridge/). This learn lesson will walk you through a real life example of how you can use bridge functionality to simplify incorporating advanced analytics into your organization's workflows. "
   ]
  }
 ],
 "metadata": {
  "kernelspec": {
   "display_name": "R",
   "language": "R",
   "name": "ir"
  },
  "language_info": {
   "codemirror_mode": "r",
   "file_extension": ".r",
   "mimetype": "text/x-r-source",
   "name": "R",
   "pygments_lexer": "r",
   "version": "3.4.3"
  }
 },
 "nbformat": 4,
 "nbformat_minor": 2
}
