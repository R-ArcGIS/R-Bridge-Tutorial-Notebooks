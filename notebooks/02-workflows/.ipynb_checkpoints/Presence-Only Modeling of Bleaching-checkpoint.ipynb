{
 "cells": [
  {
   "cell_type": "markdown",
   "metadata": {},
   "source": [
    "## Presence Only Modeling of Coral Bleaching: MaxEnt\n",
    "\n",
    "This notebook creates a MaxEnt model to predict the probability of coral bleaching.\n",
    "\n",
    "<img src=\"img/workflow.png\" style=\"width: 600px;\"/>\n",
    "\n",
    "### Import all packages for analysis\n",
    "- **arcgisbinding** : R-ArcGIS bridge, moves, wrangles, and maps geospatial data\n",
    "\n",
    "- **reticulate**: Allows interacting with Python functions such as ArcPy\n",
    "\n",
    "- **dismo**: Species distribution modeling helper functions\n",
    "\n",
    "- **maxlike**: Maximum likelihood model for presence-only modeling\n",
    "\n",
    "- **sf**: Spatial vector dataframe representation\n",
    "\n",
    "- **raster**: Spatial raster dataframe representation\n",
    "\n",
    "- **leaflet.esri**: Interactive mapping with ESRI Leaflets\n"
   ]
  },
  {
   "cell_type": "code",
   "execution_count": 1,
   "metadata": {},
   "outputs": [
    {
     "name": "stderr",
     "output_type": "stream",
     "text": [
      "*** Please call arc.check_product() to define a desktop license.\n",
      "Loading required package: raster\n",
      "Loading required package: sp\n",
      "Linking to GEOS 3.6.1, GDAL 2.2.3, proj.4 4.9.3\n"
     ]
    }
   ],
   "source": [
    "library(arcgisbinding)\n",
    "library(reticulate)\n",
    "library(dismo)\n",
    "library(maxlike)\n",
    "library(sf)\n",
    "library(raster)\n",
    "library(leaflet, quietly = TRUE)\n",
    "library(leaflet.esri, quietly = TRUE)"
   ]
  },
  {
   "cell_type": "markdown",
   "metadata": {},
   "source": [
    "#### Binding to an ArcGIS Pro License\n",
    "`arc.check_product()` function binds to a valid version of ArcGIS Pro and defines the following:\n",
    "\n",
    "- ArcGIS product and its version\n",
    "    \n",
    "- Type of license\n",
    "    \n",
    "- Version of `arcgisbinding`"
   ]
  },
  {
   "cell_type": "code",
   "execution_count": 2,
   "metadata": {},
   "outputs": [
    {
     "data": {
      "text/html": [
       "<pre><b>product:</b> ArcGIS Pro (12.7.0.26828)\n",
       "<b>license:</b> Advanced\n",
       "<b>version:</b> 1.0.1.244</pre>"
      ],
      "text/latex": [
       "\\begin{description}\n",
       "\\item[\\$license] 'Advanced'\n",
       "\\item[\\$version] '12.7.0.26828'\n",
       "\\item[\\$path] 'C:\\textbackslash{}\\textbackslash{}ArcGIS\\textbackslash{}\\textbackslash{}Pro\\textbackslash{}\\textbackslash{}'\n",
       "\\item[\\$dll] 'rarcproxy\\_pro'\n",
       "\\item[\\$app] 'ArcGIS Pro'\n",
       "\\item[\\$pkg\\_ver] '1.0.1.244'\n",
       "\\end{description}\n"
      ],
      "text/markdown": [
       "$license\n",
       ":   'Advanced'\n",
       "$version\n",
       ":   '12.7.0.26828'\n",
       "$path\n",
       ":   'C:\\\\ArcGIS\\\\Pro\\\\'\n",
       "$dll\n",
       ":   'rarcproxy_pro'\n",
       "$app\n",
       ":   'ArcGIS Pro'\n",
       "$pkg_ver\n",
       ":   '1.0.1.244'\n",
       "\n",
       "\n"
      ],
      "text/plain": [
       "product: ArcGIS Pro (12.7.0.26828)\n",
       "license: Advanced\n",
       "version: 1.0.1.244 "
      ]
     },
     "metadata": {},
     "output_type": "display_data"
    }
   ],
   "source": [
    "arc.check_product()"
   ]
  },
  {
   "cell_type": "markdown",
   "metadata": {},
   "source": [
    "#### Import ArcPy, Check out Licenses and Set Environment Variables\n",
    "\n",
    "Using reticulate we check out ArcPY.\n",
    "\n",
    "Next, we check out the Spatial Analyst license.\n",
    "\n",
    "Lastly, we set the output overwrite environemnt parameter to True"
   ]
  },
  {
   "cell_type": "code",
   "execution_count": 6,
   "metadata": {},
   "outputs": [],
   "source": [
    "## Bring In ArcPy for Calling Geoprocessing Tools from R\n",
    "ARCPY <- import(\"arcpy\")\n",
    "ARCPY$CheckOutExtension(\"Spatial\")\n",
    "ARCPY$env$overwriteOutput = TRUE"
   ]
  },
  {
   "cell_type": "markdown",
   "metadata": {},
   "source": [
    "#### Bringing in Coral Bleaching Feature Class\n",
    "\n",
    "Using `arcgisbinding` we bring in coral bleaching dataset from a geodatabase.\n",
    "\n",
    "We are interested severe bleaching events so we will bleaching events where `SEVERITY >= MEDIUM`"
   ]
  },
  {
   "cell_type": "code",
   "execution_count": 5,
   "metadata": {},
   "outputs": [],
   "source": [
    "## Full path to seagrass geodatabase\n",
    "data.loc <- \"C:/Users/orhu8849/Documents/ArcGIS/Projects/Oceans_2020/Oceans_2020.gdb\"\n",
    "all_data <- arc.open(data.loc)\n",
    "all_rasters <- all_data@children$RasterDataset\n",
    "## Bring In Bleaching Data\n",
    "bleaching.data.loc <- file.path(data.loc, 'CoralBleaching') \n",
    "bleaching.data.open <- arc.open(bleaching.data.loc)\n",
    "\n",
    "## Bring in Locations where Bleaching Has Occured\n",
    "bleaching.data.arc <- arc.select(bleaching.data.open, fields = c('SEVERITY_CODE', 'YEAR'), where_clause = \"SEVERITY_CODE > 2 And YEAR = 1998\")\n",
    "\n",
    "## Extract Severe Bleaching Locations\n",
    "bleaching.data.sf <- st_as_sf(arc.data2sp(bleaching.data.arc))\n",
    "bleaching.locations <- st_coordinates(bleaching.data.sf)"
   ]
  },
  {
   "cell_type": "code",
   "execution_count": 8,
   "metadata": {},
   "outputs": [
    {
     "data": {
      "text/html": [
       "<table>\n",
       "<thead><tr><th scope=col>SEVERITY_CODE</th><th scope=col>YEAR</th><th scope=col>geometry</th></tr></thead>\n",
       "<tbody>\n",
       "\t<tr><td>3                         </td><td>1998                      </td><td>POINT (-171.7261 -13.8231)</td></tr>\n",
       "\t<tr><td>3                       </td><td>1998                    </td><td>POINT (-176.5167 0.2167)</td></tr>\n",
       "\t<tr><td>3                    </td><td>1998                 </td><td>POINT (-176.6333 0.8)</td></tr>\n",
       "\t<tr><td>3                       </td><td>1998                    </td><td>POINT (-90.4097 -0.8947)</td></tr>\n",
       "\t<tr><td>3                       </td><td>1998                    </td><td>POINT (-90.5162 -0.2779)</td></tr>\n",
       "\t<tr><td>3                   </td><td>1998                </td><td>POINT (-90.17 -0.56)</td></tr>\n",
       "</tbody>\n",
       "</table>\n"
      ],
      "text/latex": [
       "\\begin{tabular}{r|lll}\n",
       " SEVERITY\\_CODE & YEAR & geometry\\\\\n",
       "\\hline\n",
       "\t 3                          & 1998                       & POINT (-171.7261 -13.8231)\\\\\n",
       "\t 3                        & 1998                     & POINT (-176.5167 0.2167)\\\\\n",
       "\t 3                     & 1998                  & POINT (-176.6333 0.8)\\\\\n",
       "\t 3                        & 1998                     & POINT (-90.4097 -0.8947)\\\\\n",
       "\t 3                        & 1998                     & POINT (-90.5162 -0.2779)\\\\\n",
       "\t 3                    & 1998                 & POINT (-90.17 -0.56)\\\\\n",
       "\\end{tabular}\n"
      ],
      "text/markdown": [
       "\n",
       "SEVERITY_CODE | YEAR | geometry | \n",
       "|---|---|---|---|---|---|\n",
       "| 3                          | 1998                       | POINT (-171.7261 -13.8231) | \n",
       "| 3                        | 1998                     | POINT (-176.5167 0.2167) | \n",
       "| 3                     | 1998                  | POINT (-176.6333 0.8) | \n",
       "| 3                        | 1998                     | POINT (-90.4097 -0.8947) | \n",
       "| 3                        | 1998                     | POINT (-90.5162 -0.2779) | \n",
       "| 3                    | 1998                 | POINT (-90.17 -0.56) | \n",
       "\n",
       "\n"
      ],
      "text/plain": [
       "  SEVERITY_CODE YEAR geometry                  \n",
       "1 3             1998 POINT (-171.7261 -13.8231)\n",
       "2 3             1998 POINT (-176.5167 0.2167)  \n",
       "3 3             1998 POINT (-176.6333 0.8)     \n",
       "4 3             1998 POINT (-90.4097 -0.8947)  \n",
       "5 3             1998 POINT (-90.5162 -0.2779)  \n",
       "6 3             1998 POINT (-90.17 -0.56)      "
      ]
     },
     "metadata": {},
     "output_type": "display_data"
    }
   ],
   "source": [
    "head(bleaching.data.sf)"
   ]
  },
  {
   "cell_type": "markdown",
   "metadata": {},
   "source": [
    "#### Bringing in Shallow Bathymetry Polygons\n",
    "\n",
    "Next, we bring in shallow bathymetry polygons. We need these polygons to define the spatial extent of the presence-only model. \n",
    "\n",
    "We will use these polygons in the next step to mask analysis rasters. "
   ]
  },
  {
   "cell_type": "code",
   "execution_count": 7,
   "metadata": {},
   "outputs": [],
   "source": [
    "## Bring in Shallow Bathymetry Polygons\n",
    "bathy.data <- file.path(data.loc, 'bathymetry_shallow')\n",
    "shallow.bathymetry <- arc.select(arc.open(bathy.data))\n",
    "shallow.bathymetry <- st_as_sf(arc.data2sp(shallow.bathymetry))"
   ]
  },
  {
   "cell_type": "markdown",
   "metadata": {},
   "source": [
    "#### Bring in prediction rasters and Mask by Shallow Bathymetry Polygons\n",
    "\n",
    "As a next, step we will bring in global prediction rasters and spatially subset them for shallow bathymetry.\n",
    "\n",
    "Below is a conceptual depiction:\n",
    "\n",
    "<img src=\"mask_raster.png\" style=\"width: 900px;\"/>"
   ]
  },
  {
   "cell_type": "code",
   "execution_count": 10,
   "metadata": {},
   "outputs": [
    {
     "name": "stdout",
     "output_type": "stream",
     "text": [
      "[1] \"Running Extract By Mask on fco2_ave_1998\"\n",
      "[1] \"Running Extract By Mask on fco2_min_1998\"\n",
      "[1] \"Running Extract By Mask on fco2_max_1998\"\n",
      "[1] \"Running Extract By Mask on sst_ave_1998\"\n",
      "[1] \"Running Extract By Mask on sst_std_1998\"\n",
      "[1] \"Running Extract By Mask on sst_min_1998\"\n",
      "[1] \"Running Extract By Mask on sst_max_1998\"\n",
      "[1] \"Running Extract By Mask on salinity_min_1998\"\n",
      "[1] \"Running Extract By Mask on salinity_max_1998\"\n",
      "[1] \"Running Extract By Mask on ocean_currents_ave_1998\"\n"
     ]
    }
   ],
   "source": [
    "raster_list <- grep('1998', all_rasters, value=TRUE)\n",
    "r1 <- arc.raster(arc.open(file.path(data.loc, raster_list[1])))\n",
    "\n",
    "raster.stack <- c()\n",
    "for (predictor in raster_list[1:10])\n",
    "{\n",
    "  print(paste0('Running Extract By Mask on ', predictor))\n",
    "    \n",
    "  raster.loc <- file.path(data.loc, predictor)\n",
    "  ## Mask Predictor Rasters in the Shallow Portion \n",
    "  masked.raster.name <- file.path('memory', predictor) \n",
    "  raster.masked <- ARCPY$sa$ExtractByMask(raster.loc, bathy.data)\n",
    "  raster.masked$save(masked.raster.name)\n",
    "    \n",
    "  ## Read in the Masked Preditor Raster\n",
    "  raster.open.obj <- arc.open(masked.raster.name)\n",
    "  raster.arc <- arc.raster(raster.open.obj, extent = r1$extent, nrow = r1$nrow, ncol = r1$ncol)\n",
    "  raster.obj <- as.raster(raster.arc)\n",
    "  \n",
    "  ## Standardize the Raster Object\n",
    "  raster.obj <- (raster.obj - cellStats(raster.obj, \"mean\"))/cellStats(raster.obj, \"sd\")\n",
    "  ## Add Surface to Raster Stack\n",
    "  raster.stack <- append(raster.stack, raster.obj)\n",
    "}"
   ]
  },
  {
   "cell_type": "markdown",
   "metadata": {},
   "source": [
    "#### Bring In Aragonite Image Service from the Living Atlas\n",
    "The calcium carbonate (aragonite) make up the skeletons of corals are essential for reef structure. It is an important indicator for coral reefs. We bring the image services from the Living Atlas as an R Dataframe using the R-ArcGIS Bridge.\n",
    "\n",
    "\n",
    "<img src=\"img/livingatlas.png\" style=\"width: 900px;\"/>\n",
    "\n",
    "Using the R-ArcGIS Bridge we will bring in the image service that contains aragonite data to be used in prediction.\n",
    "\n",
    "After the image service is brought in as an R dataframe, it will be masked with shallow bathymetry polygon using the R-ArcGIS Bridge."
   ]
  },
  {
   "cell_type": "code",
   "execution_count": 12,
   "metadata": {},
   "outputs": [
    {
     "data": {
      "text/html": [
       "<pre><b>Current</b>\n",
       "  url\t\t: https://www.arcgis.com/\n",
       "  version\t: 9.1\n",
       "  user\t\t: Orhun7\n",
       "  organization\t: Esri Analytics Team Hive3\n",
       "<b>Not signed in</b>\n",
       "  'https://dredd29.esri.com/portal/'\n",
       "  'https://gpportal.esri.com/portal/'</pre>"
      ],
      "text/latex": [
       "\\begin{description}\n",
       "\\item[\\$url] 'https://www.arcgis.com/'\n",
       "\\item[\\$version] '9.1'\n",
       "\\item[\\$token] 'nM0l8MQfzJVXd7BNMs5WCfVTAjS2N\\_y8bpS1dfEhoe5T6kBfEyxS4mpPSkvF664JyRm2mRqyipYMUkMKGJ0nN8v7K6Rgjj2vo6qMORr4kHJcXi\\_gHzKQJxqmn9KKVl9l4\\_Y7cYf8Js8DcLVDGxHcUlbr40cqyjck3fy0J7LZqeMuVBFZRWV1KPBv2ekUL8hwoIbBJkYl6RZsS51YobTkyFLGRdjpavCuJ\\_io6SRvEzwZdyHsO4uEwHV\\_kXv89hiY'\n",
       "\\item[\\$user] 'Orhun7'\n",
       "\\item[\\$session] 'ArcGISPro\\_61'\n",
       "\\item[\\$organization] 'Esri Analytics Team Hive3'\n",
       "\\item[\\$offlines] \\begin{enumerate*}\n",
       "\\item 'https://dredd29.esri.com/portal/'\n",
       "\\item 'https://gpportal.esri.com/portal/'\n",
       "\\end{enumerate*}\n",
       "\n",
       "\\end{description}\n"
      ],
      "text/markdown": [
       "$url\n",
       ":   'https://www.arcgis.com/'\n",
       "$version\n",
       ":   '9.1'\n",
       "$token\n",
       ":   'nM0l8MQfzJVXd7BNMs5WCfVTAjS2N_y8bpS1dfEhoe5T6kBfEyxS4mpPSkvF664JyRm2mRqyipYMUkMKGJ0nN8v7K6Rgjj2vo6qMORr4kHJcXi_gHzKQJxqmn9KKVl9l4_Y7cYf8Js8DcLVDGxHcUlbr40cqyjck3fy0J7LZqeMuVBFZRWV1KPBv2ekUL8hwoIbBJkYl6RZsS51YobTkyFLGRdjpavCuJ_io6SRvEzwZdyHsO4uEwHV_kXv89hiY'\n",
       "$user\n",
       ":   'Orhun7'\n",
       "$session\n",
       ":   'ArcGISPro_61'\n",
       "$organization\n",
       ":   'Esri Analytics Team Hive3'\n",
       "$offlines\n",
       ":   1. 'https://dredd29.esri.com/portal/'\n",
       "2. 'https://gpportal.esri.com/portal/'\n",
       "\n",
       "\n",
       "\n",
       "\n",
       "\n"
      ],
      "text/plain": [
       "*** Current\n",
       "  url\t\t: https://www.arcgis.com/\n",
       "  version\t: 9.1\n",
       "  user\t\t: Orhun7\n",
       "  organization\t: Esri Analytics Team Hive3\n",
       "*** Not signed in\n",
       "  'https://dredd29.esri.com/portal/'\n",
       "  'https://gpportal.esri.com/portal/' "
      ]
     },
     "metadata": {},
     "output_type": "display_data"
    }
   ],
   "source": [
    "arc.check_portal()"
   ]
  },
  {
   "cell_type": "code",
   "execution_count": 13,
   "metadata": {},
   "outputs": [],
   "source": [
    "## Add an Image Service Raster for Aragonite\n",
    "omega.arogonite <- 'https://oceans2.arcgis.com/arcgis/rest/services/Seafloor_Aragonite/ImageServer'\n",
    "aragonite.open <- arc.open(omega.arogonite)\n",
    "aragonite.arc <- arc.raster(aragonite.open, extent = r1$extent, nrow = r1$nrow, ncol = r1$ncol)\n",
    "aragonite.obj <- as.raster(raster.arc)\n",
    "## Standardize the Raster Object\n",
    "aragonite.obj <- (aragonite.obj - cellStats(aragonite.obj, \"mean\"))/cellStats(aragonite.obj, \"sd\")\n",
    "raster.stack <- append(raster.stack, aragonite.obj)"
   ]
  },
  {
   "cell_type": "markdown",
   "metadata": {},
   "source": [
    "#### Define the Raster Stack of Environmental Rasters\n",
    "\n",
    "We stack all of the prediction rasters to be used in presence-only modeling. Process in R depicted conceptually below:\n",
    "\n",
    "<img src=\"img/stack.png\" style=\"width: 900px;\"/>\n",
    "\n",
    "Below, we will use the `stack` functionality out of the raster package to represent the raster stack."
   ]
  },
  {
   "cell_type": "code",
   "execution_count": 14,
   "metadata": {},
   "outputs": [
    {
     "data": {
      "image/png": "[encoded data removed]",
      "text/plain": [
       "Plot with title \"aragonite\""
      ]
     },
     "metadata": {},
     "output_type": "display_data"
    }
   ],
   "source": [
    "## Update Variable Names\n",
    "var_names <- append(raster_list[1:10], 'aragonite')\n",
    "\n",
    "### Set Generic Band Names to Predictor Names\n",
    "rasters <- stack(raster.stack)\n",
    "names(rasters) <- var_names\n",
    "plot(rasters, nc=2, nr = 6)"
   ]
  },
  {
   "cell_type": "markdown",
   "metadata": {},
   "source": [
    "#### Define the Presence Only Model For Bleaching\n",
    "\n",
    "Next, we will define a presence-only model of coral bleaching using maximum likelihood (maxLike). The concept of presence-only prediction is summarized below:\n",
    "\n",
    "<img src=\"img/maxent.png\" style=\"width: 900px;\"/>\n",
    "\n",
    "We define the formula for maxLike below. Here, we model linear relationships between oceanic conditions and coral bleaching."
   ]
  },
  {
   "cell_type": "code",
   "execution_count": 15,
   "metadata": {},
   "outputs": [],
   "source": [
    "maxEnt.formula <- formula(paste0(\"~\",paste0(names(rasters), collapse=\"+\")))"
   ]
  },
  {
   "cell_type": "markdown",
   "metadata": {},
   "source": [
    "#### Fit MaxLike Model to Presence Data\n",
    "\n",
    "Using a `cloglog` link function and an BFGS solver, we solve the linear system for presence."
   ]
  },
  {
   "cell_type": "code",
   "execution_count": 16,
   "metadata": {},
   "outputs": [
    {
     "name": "stderr",
     "output_type": "stream",
     "text": [
      "Warning message in maxlike(maxEnt.formula, rasters, bleaching.locations, method = \"BFGS\", :\n",
      "\"164 points removed due to missing values\""
     ]
    },
    {
     "data": {
      "image/png": "[encoded data removed]",
      "text/plain": [
       "Plot with title \"Probability of Mid to Severe Coral Bleaching\""
      ]
     },
     "metadata": {},
     "output_type": "display_data"
    }
   ],
   "source": [
    "## Fit MaxLike Model\n",
    "maxLike.model <- maxlike(maxEnt.formula, \n",
    "                         rasters, \n",
    "                         bleaching.locations,\n",
    "                                 method=\"BFGS\", link = \"cloglog\", removeDuplicates=TRUE, savedata=TRUE)\n",
    "\n",
    "prediction <- predict(maxLike.model)\n",
    "predict.raster <- predict(maxLike.model, as.data.frame(rasters))\n",
    "hist(prediction, main = 'Probability of Mid to Severe Coral Bleaching',  xlab=\"Probability of Bleaching\")"
   ]
  },
  {
   "cell_type": "markdown",
   "metadata": {},
   "source": [
    "#### Write the Prediction Raster in a Geodatabase for Further Analysis"
   ]
  },
  {
   "cell_type": "code",
   "execution_count": 19,
   "metadata": {},
   "outputs": [],
   "source": [
    "## Create a New Raster that coantains MaxEnt Predictions\n",
    "##### Define the location to write predictions\n",
    "write.loc <- file.path(data.loc, 'maxEnt_Predictions')\n",
    "##### Create a Blank Raster that has the same properties as one of the environmental rasters\n",
    "prediction.raster <- arc.raster(NULL, path = write.loc, \n",
    "                                dim = c(dim(r1)[1], dim(r1)[2]),\n",
    "                                pixel_type = r1$pixel_type, \n",
    "                                sr = r1$sr$WKID,\n",
    "                                extent = r1$extent)\n",
    "#### Use an R-ArcGIS Bridge Raster Utility function to push data into blank raster\n",
    "prediction.raster$write_pixel_block(predict.raster, nrow = dim(r1)[1], ncol = dim(r1)[2])\n",
    "#### Write Out the In-Memory Raster\n",
    "dummy <- prediction.raster$commit()\n",
    "#### Delete the In-Memory Feature to Avoid Corruption\n",
    "rm(prediction.raster)"
   ]
  },
  {
   "cell_type": "markdown",
   "metadata": {},
   "source": [
    "### Model Comparison\n",
    "#### Bring-In Live Feature Services from NOAA's Coral Reef Watch for Model Comparison\n",
    "<img src=\"img/reef_watch.png\" style=\"width: 900px;\"/>"
   ]
  },
  {
   "cell_type": "code",
   "execution_count": 17,
   "metadata": {},
   "outputs": [],
   "source": [
    "noaa.crw.stations.loc <- 'https://services9.arcgis.com/RHVPKKiFTONKtxq3/arcgis/rest/services/Coral_Reef_Stations/FeatureServer/0'\n",
    "noaa.crw.stations <- arc.select(arc.open(noaa.crw.stations.loc), sr = 4326)"
   ]
  },
  {
   "cell_type": "markdown",
   "metadata": {},
   "source": [
    "#### Save the Prediction Raster of Bleaching Occurence Probability \n",
    "\n",
    "Next, we save the output raster to a geodatabase"
   ]
  },
  {
   "cell_type": "markdown",
   "metadata": {},
   "source": [
    "#### Use ESRI Leaflets to Embed Interactive Map of Recent Bleaching Events"
   ]
  },
  {
   "cell_type": "code",
   "execution_count": 18,
   "metadata": {},
   "outputs": [
    {
     "data": {
      "text/html": [
       "<iframe width=\"100%\" height=\"400\" frameborder=\"0\" src=\"/nbextensions/maps/NOAA_map.html\"></iframe>"
      ],
      "text/plain": [
       "HTML widgets cannot be represented in plain text (need html)"
      ]
     },
     "metadata": {},
     "output_type": "display_data"
    }
   ],
   "source": [
    "renderer <- colorBin(\"Reds\", domain=noaa.crw.stations$alert, length(unique(noaa.crw.stations$alert)), pretty=FALSE)\n",
    "\n",
    "L<-leaflet(elementId='NOAA_map') %>%\n",
    "  addProviderTiles(providers$Esri.OceanBasemap) %>%\n",
    "  addCircleMarkers(data = noaa.crw.stations, \n",
    "                   color=~renderer(alert), \n",
    "                   radius=5,\n",
    "                   label=~sprintf(\"Bleaching Severity: %s\", alert)) %>%\n",
    "\n",
    "  addLegend(pal = renderer, values = noaa.crw.stations$alert, title = \"Bleaching Severity\")\n",
    "L"
   ]
  },
  {
   "cell_type": "markdown",
   "metadata": {},
   "source": [
    "#### Add Bleaching Occurence Probability Raster to Map Above for Comparison"
   ]
  },
  {
   "cell_type": "code",
   "execution_count": 19,
   "metadata": {},
   "outputs": [
    {
     "data": {
      "text/html": [
       "<iframe width=\"100%\" height=\"400\" frameborder=\"0\" src=\"/nbextensions/maps/NOAA_map.html\"></iframe>"
      ],
      "text/plain": [
       "HTML widgets cannot be represented in plain text (need html)"
      ]
     },
     "metadata": {},
     "output_type": "display_data"
    }
   ],
   "source": [
    "##### Define the location to write predictions\n",
    "write.loc <- file.path(data.loc, 'maxEnt_Prediction_new')\n",
    "plot.raster <- as.raster(arc.raster(arc.open(write.loc)))\n",
    "raster.renderer <- colorNumeric(\"RdYlBu\", domain=values(plot.raster), na.color = \"transparent\")\n",
    "addRasterImage(L, plot.raster, color= raster.renderer)"
   ]
  }
 ],
 "metadata": {
  "kernelspec": {
   "display_name": "R",
   "language": "R",
   "name": "ir"
  },
  "language_info": {
   "codemirror_mode": "r",
   "file_extension": ".r",
   "mimetype": "text/x-r-source",
   "name": "R",
   "pygments_lexer": "r",
   "version": "3.5.1"
  }
 },
 "nbformat": 4,
 "nbformat_minor": 4
}
